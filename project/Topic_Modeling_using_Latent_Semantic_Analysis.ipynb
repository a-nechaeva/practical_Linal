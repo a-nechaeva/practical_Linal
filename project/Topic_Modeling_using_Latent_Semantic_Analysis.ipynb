{
  "nbformat": 4,
  "nbformat_minor": 0,
  "metadata": {
    "colab": {
      "provenance": []
    },
    "kernelspec": {
      "name": "python3",
      "display_name": "Python 3"
    },
    "language_info": {
      "name": "python"
    }
  },
  "cells": [
    {
      "cell_type": "markdown",
      "source": [
        "# ✨***Topic Modeling using Latent Semantic Analysis***✨\n",
        "\n",
        "Это длинное название можно перевести так: ***выделение тем, используя латентно-семантический анализ***.\n",
        "\n",
        "✨***Над проектом работали:***\n",
        "\n",
        "* Нечаева Анна Анатольевна,\n",
        "* Сизиков Григорий Алексеевич,\n",
        "* Попов Владимир Алексеевич.\n",
        "\n",
        "✨ ***Целью*** данного проекта является изучение и практическое применение латентно-семантического анализа для выявления тематик текстовых данных. Основной задачей проекта является использование ***LSA*** для создания ***Topic Model*** с целью выявления семантических тем и выделения ключевых концепций в наборе текстов."
      ],
      "metadata": {
        "id": "hTBzkd1IUsq3"
      }
    },
    {
      "cell_type": "code",
      "source": [
        "# загрузим тексты, с которыми будем работать\n",
        "\n",
        "import json\n",
        "import pandas as pd\n",
        "\n",
        "ser = pd.read_json(\"https://raw.githubusercontent.com/kittvnebluda/pla-texts/main/texts.json\", typ=\"series\")\n",
        "\n",
        "df = pd.DataFrame({\"text\": ser})\n",
        "\n",
        "# уберем все кроме букв\n",
        "df[\"clean\"] = df[\"text\"].str.replace(\"[^а-яА-Я ]\", \"\", regex=True)\n",
        "\n",
        "# убираем слова от трех букв и меньше\n",
        "df[\"clean\"] = df[\"clean\"].apply(lambda x: \" \".join([w for w in x.split() if len(w) > 3]))\n",
        "\n",
        "# занизим все заглавные буквы\n",
        "df[\"clean\"] = df[\"clean\"].apply(lambda x: x.lower())\n",
        "\n",
        "df"
      ],
      "metadata": {
        "colab": {
          "base_uri": "https://localhost:8080/",
          "height": 954
        },
        "id": "87l8e-WlJ_eL",
        "outputId": "becb7e07-66e8-4d5b-c942-c7277d593f81"
      },
      "execution_count": null,
      "outputs": [
        {
          "output_type": "execute_result",
          "data": {
            "text/plain": [
              "                                                          text  \\\n",
              "AI_1         Обзорная статья об Искусственном Интеллекте (д...   \n",
              "AI_2         Из статьи вы узнаете, что такое искусственный ...   \n",
              "AI_3         Искусственный интеллект (ИИ) и Интернет вещей ...   \n",
              "AI_4         Благодаря бурным темпам развития цифровых техн...   \n",
              "AI_5         Искусственный интеллект (ИИ) становится неотъе...   \n",
              "economics_1  В данной статье проводится всесторонний анализ...   \n",
              "economics_2  В данной статье рассмотрено явление, которое п...   \n",
              "economics_3  В данной статье рассматривается понятие эконом...   \n",
              "economics_4  В данной статье рассматривается значение малог...   \n",
              "economics_5  Коррупция является поистине неоднозначным проц...   \n",
              "med_1        В современных условиях динамичного развития зд...   \n",
              "med_2        Пациенты, страдающие циррозом печени и токсиче...   \n",
              "med_3        Люди, страдающие хронической сердечной недоста...   \n",
              "med_4        В Российской Федерации заболевания органов кро...   \n",
              "med_5        По данным “Республиканского научно-практическо...   \n",
              "space_1      Усилиями различных СМИ а также художественной ...   \n",
              "space_2      Проблема звезд Вольфа–Райе (WR) лежит на стыке...   \n",
              "space_3      Доля двойных и кратных звезд в нашей Галактике...   \n",
              "space_4      Открытие движений “неподвижных” звезд принадле...   \n",
              "space_5      В земных лабораториях не составляет труда изуч...   \n",
              "\n",
              "                                                         clean  \n",
              "AI_1         обзорная статья искусственном интеллекте далее...  \n",
              "AI_2         статьи узнаете такое искусственный интеллект п...  \n",
              "AI_3         искусственный интеллект интернет вещей предста...  \n",
              "AI_4         благодаря бурным темпам развития цифровых техн...  \n",
              "AI_5         искусственный интеллект становится неотъемлемо...  \n",
              "economics_1  данной статье проводится всесторонний анализ т...  \n",
              "economics_2  данной статье рассмотрено явление которое полу...  \n",
              "economics_3  данной статье рассматривается понятие экономич...  \n",
              "economics_4  данной статье рассматривается значение малого ...  \n",
              "economics_5  коррупция является поистине неоднозначным проц...  \n",
              "med_1        современных условиях динамичного развития здра...  \n",
              "med_2        пациенты страдающие циррозом печени токсически...  \n",
              "med_3        люди страдающие хронической сердечной недостат...  \n",
              "med_4        российской федерации заболевания органов крово...  \n",
              "med_5        данным республиканского научнопрактического це...  \n",
              "space_1      усилиями различных также художественной фантас...  \n",
              "space_2      проблема звезд вольфарайе лежит стыкемежду кла...  \n",
              "space_3      доля двойных кратных звезд нашей галактике сос...  \n",
              "space_4      открытие движений неподвижных звезд принадлежи...  \n",
              "space_5      земных лабораториях составляет труда изучить х...  "
            ],
            "text/html": [
              "\n",
              "  <div id=\"df-d64ad2cb-6332-42fc-8ba8-206939354440\" class=\"colab-df-container\">\n",
              "    <div>\n",
              "<style scoped>\n",
              "    .dataframe tbody tr th:only-of-type {\n",
              "        vertical-align: middle;\n",
              "    }\n",
              "\n",
              "    .dataframe tbody tr th {\n",
              "        vertical-align: top;\n",
              "    }\n",
              "\n",
              "    .dataframe thead th {\n",
              "        text-align: right;\n",
              "    }\n",
              "</style>\n",
              "<table border=\"1\" class=\"dataframe\">\n",
              "  <thead>\n",
              "    <tr style=\"text-align: right;\">\n",
              "      <th></th>\n",
              "      <th>text</th>\n",
              "      <th>clean</th>\n",
              "    </tr>\n",
              "  </thead>\n",
              "  <tbody>\n",
              "    <tr>\n",
              "      <th>AI_1</th>\n",
              "      <td>Обзорная статья об Искусственном Интеллекте (д...</td>\n",
              "      <td>обзорная статья искусственном интеллекте далее...</td>\n",
              "    </tr>\n",
              "    <tr>\n",
              "      <th>AI_2</th>\n",
              "      <td>Из статьи вы узнаете, что такое искусственный ...</td>\n",
              "      <td>статьи узнаете такое искусственный интеллект п...</td>\n",
              "    </tr>\n",
              "    <tr>\n",
              "      <th>AI_3</th>\n",
              "      <td>Искусственный интеллект (ИИ) и Интернет вещей ...</td>\n",
              "      <td>искусственный интеллект интернет вещей предста...</td>\n",
              "    </tr>\n",
              "    <tr>\n",
              "      <th>AI_4</th>\n",
              "      <td>Благодаря бурным темпам развития цифровых техн...</td>\n",
              "      <td>благодаря бурным темпам развития цифровых техн...</td>\n",
              "    </tr>\n",
              "    <tr>\n",
              "      <th>AI_5</th>\n",
              "      <td>Искусственный интеллект (ИИ) становится неотъе...</td>\n",
              "      <td>искусственный интеллект становится неотъемлемо...</td>\n",
              "    </tr>\n",
              "    <tr>\n",
              "      <th>economics_1</th>\n",
              "      <td>В данной статье проводится всесторонний анализ...</td>\n",
              "      <td>данной статье проводится всесторонний анализ т...</td>\n",
              "    </tr>\n",
              "    <tr>\n",
              "      <th>economics_2</th>\n",
              "      <td>В данной статье рассмотрено явление, которое п...</td>\n",
              "      <td>данной статье рассмотрено явление которое полу...</td>\n",
              "    </tr>\n",
              "    <tr>\n",
              "      <th>economics_3</th>\n",
              "      <td>В данной статье рассматривается понятие эконом...</td>\n",
              "      <td>данной статье рассматривается понятие экономич...</td>\n",
              "    </tr>\n",
              "    <tr>\n",
              "      <th>economics_4</th>\n",
              "      <td>В данной статье рассматривается значение малог...</td>\n",
              "      <td>данной статье рассматривается значение малого ...</td>\n",
              "    </tr>\n",
              "    <tr>\n",
              "      <th>economics_5</th>\n",
              "      <td>Коррупция является поистине неоднозначным проц...</td>\n",
              "      <td>коррупция является поистине неоднозначным проц...</td>\n",
              "    </tr>\n",
              "    <tr>\n",
              "      <th>med_1</th>\n",
              "      <td>В современных условиях динамичного развития зд...</td>\n",
              "      <td>современных условиях динамичного развития здра...</td>\n",
              "    </tr>\n",
              "    <tr>\n",
              "      <th>med_2</th>\n",
              "      <td>Пациенты, страдающие циррозом печени и токсиче...</td>\n",
              "      <td>пациенты страдающие циррозом печени токсически...</td>\n",
              "    </tr>\n",
              "    <tr>\n",
              "      <th>med_3</th>\n",
              "      <td>Люди, страдающие хронической сердечной недоста...</td>\n",
              "      <td>люди страдающие хронической сердечной недостат...</td>\n",
              "    </tr>\n",
              "    <tr>\n",
              "      <th>med_4</th>\n",
              "      <td>В Российской Федерации заболевания органов кро...</td>\n",
              "      <td>российской федерации заболевания органов крово...</td>\n",
              "    </tr>\n",
              "    <tr>\n",
              "      <th>med_5</th>\n",
              "      <td>По данным “Республиканского научно-практическо...</td>\n",
              "      <td>данным республиканского научнопрактического це...</td>\n",
              "    </tr>\n",
              "    <tr>\n",
              "      <th>space_1</th>\n",
              "      <td>Усилиями различных СМИ а также художественной ...</td>\n",
              "      <td>усилиями различных также художественной фантас...</td>\n",
              "    </tr>\n",
              "    <tr>\n",
              "      <th>space_2</th>\n",
              "      <td>Проблема звезд Вольфа–Райе (WR) лежит на стыке...</td>\n",
              "      <td>проблема звезд вольфарайе лежит стыкемежду кла...</td>\n",
              "    </tr>\n",
              "    <tr>\n",
              "      <th>space_3</th>\n",
              "      <td>Доля двойных и кратных звезд в нашей Галактике...</td>\n",
              "      <td>доля двойных кратных звезд нашей галактике сос...</td>\n",
              "    </tr>\n",
              "    <tr>\n",
              "      <th>space_4</th>\n",
              "      <td>Открытие движений “неподвижных” звезд принадле...</td>\n",
              "      <td>открытие движений неподвижных звезд принадлежи...</td>\n",
              "    </tr>\n",
              "    <tr>\n",
              "      <th>space_5</th>\n",
              "      <td>В земных лабораториях не составляет труда изуч...</td>\n",
              "      <td>земных лабораториях составляет труда изучить х...</td>\n",
              "    </tr>\n",
              "  </tbody>\n",
              "</table>\n",
              "</div>\n",
              "    <div class=\"colab-df-buttons\">\n",
              "\n",
              "  <div class=\"colab-df-container\">\n",
              "    <button class=\"colab-df-convert\" onclick=\"convertToInteractive('df-d64ad2cb-6332-42fc-8ba8-206939354440')\"\n",
              "            title=\"Convert this dataframe to an interactive table.\"\n",
              "            style=\"display:none;\">\n",
              "\n",
              "  <svg xmlns=\"http://www.w3.org/2000/svg\" height=\"24px\" viewBox=\"0 -960 960 960\">\n",
              "    <path d=\"M120-120v-720h720v720H120Zm60-500h600v-160H180v160Zm220 220h160v-160H400v160Zm0 220h160v-160H400v160ZM180-400h160v-160H180v160Zm440 0h160v-160H620v160ZM180-180h160v-160H180v160Zm440 0h160v-160H620v160Z\"/>\n",
              "  </svg>\n",
              "    </button>\n",
              "\n",
              "  <style>\n",
              "    .colab-df-container {\n",
              "      display:flex;\n",
              "      gap: 12px;\n",
              "    }\n",
              "\n",
              "    .colab-df-convert {\n",
              "      background-color: #E8F0FE;\n",
              "      border: none;\n",
              "      border-radius: 50%;\n",
              "      cursor: pointer;\n",
              "      display: none;\n",
              "      fill: #1967D2;\n",
              "      height: 32px;\n",
              "      padding: 0 0 0 0;\n",
              "      width: 32px;\n",
              "    }\n",
              "\n",
              "    .colab-df-convert:hover {\n",
              "      background-color: #E2EBFA;\n",
              "      box-shadow: 0px 1px 2px rgba(60, 64, 67, 0.3), 0px 1px 3px 1px rgba(60, 64, 67, 0.15);\n",
              "      fill: #174EA6;\n",
              "    }\n",
              "\n",
              "    .colab-df-buttons div {\n",
              "      margin-bottom: 4px;\n",
              "    }\n",
              "\n",
              "    [theme=dark] .colab-df-convert {\n",
              "      background-color: #3B4455;\n",
              "      fill: #D2E3FC;\n",
              "    }\n",
              "\n",
              "    [theme=dark] .colab-df-convert:hover {\n",
              "      background-color: #434B5C;\n",
              "      box-shadow: 0px 1px 3px 1px rgba(0, 0, 0, 0.15);\n",
              "      filter: drop-shadow(0px 1px 2px rgba(0, 0, 0, 0.3));\n",
              "      fill: #FFFFFF;\n",
              "    }\n",
              "  </style>\n",
              "\n",
              "    <script>\n",
              "      const buttonEl =\n",
              "        document.querySelector('#df-d64ad2cb-6332-42fc-8ba8-206939354440 button.colab-df-convert');\n",
              "      buttonEl.style.display =\n",
              "        google.colab.kernel.accessAllowed ? 'block' : 'none';\n",
              "\n",
              "      async function convertToInteractive(key) {\n",
              "        const element = document.querySelector('#df-d64ad2cb-6332-42fc-8ba8-206939354440');\n",
              "        const dataTable =\n",
              "          await google.colab.kernel.invokeFunction('convertToInteractive',\n",
              "                                                    [key], {});\n",
              "        if (!dataTable) return;\n",
              "\n",
              "        const docLinkHtml = 'Like what you see? Visit the ' +\n",
              "          '<a target=\"_blank\" href=https://colab.research.google.com/notebooks/data_table.ipynb>data table notebook</a>'\n",
              "          + ' to learn more about interactive tables.';\n",
              "        element.innerHTML = '';\n",
              "        dataTable['output_type'] = 'display_data';\n",
              "        await google.colab.output.renderOutput(dataTable, element);\n",
              "        const docLink = document.createElement('div');\n",
              "        docLink.innerHTML = docLinkHtml;\n",
              "        element.appendChild(docLink);\n",
              "      }\n",
              "    </script>\n",
              "  </div>\n",
              "\n",
              "\n",
              "<div id=\"df-5bb57de3-ba13-4eca-8149-42bbd4e1bca3\">\n",
              "  <button class=\"colab-df-quickchart\" onclick=\"quickchart('df-5bb57de3-ba13-4eca-8149-42bbd4e1bca3')\"\n",
              "            title=\"Suggest charts\"\n",
              "            style=\"display:none;\">\n",
              "\n",
              "<svg xmlns=\"http://www.w3.org/2000/svg\" height=\"24px\"viewBox=\"0 0 24 24\"\n",
              "     width=\"24px\">\n",
              "    <g>\n",
              "        <path d=\"M19 3H5c-1.1 0-2 .9-2 2v14c0 1.1.9 2 2 2h14c1.1 0 2-.9 2-2V5c0-1.1-.9-2-2-2zM9 17H7v-7h2v7zm4 0h-2V7h2v10zm4 0h-2v-4h2v4z\"/>\n",
              "    </g>\n",
              "</svg>\n",
              "  </button>\n",
              "\n",
              "<style>\n",
              "  .colab-df-quickchart {\n",
              "      --bg-color: #E8F0FE;\n",
              "      --fill-color: #1967D2;\n",
              "      --hover-bg-color: #E2EBFA;\n",
              "      --hover-fill-color: #174EA6;\n",
              "      --disabled-fill-color: #AAA;\n",
              "      --disabled-bg-color: #DDD;\n",
              "  }\n",
              "\n",
              "  [theme=dark] .colab-df-quickchart {\n",
              "      --bg-color: #3B4455;\n",
              "      --fill-color: #D2E3FC;\n",
              "      --hover-bg-color: #434B5C;\n",
              "      --hover-fill-color: #FFFFFF;\n",
              "      --disabled-bg-color: #3B4455;\n",
              "      --disabled-fill-color: #666;\n",
              "  }\n",
              "\n",
              "  .colab-df-quickchart {\n",
              "    background-color: var(--bg-color);\n",
              "    border: none;\n",
              "    border-radius: 50%;\n",
              "    cursor: pointer;\n",
              "    display: none;\n",
              "    fill: var(--fill-color);\n",
              "    height: 32px;\n",
              "    padding: 0;\n",
              "    width: 32px;\n",
              "  }\n",
              "\n",
              "  .colab-df-quickchart:hover {\n",
              "    background-color: var(--hover-bg-color);\n",
              "    box-shadow: 0 1px 2px rgba(60, 64, 67, 0.3), 0 1px 3px 1px rgba(60, 64, 67, 0.15);\n",
              "    fill: var(--button-hover-fill-color);\n",
              "  }\n",
              "\n",
              "  .colab-df-quickchart-complete:disabled,\n",
              "  .colab-df-quickchart-complete:disabled:hover {\n",
              "    background-color: var(--disabled-bg-color);\n",
              "    fill: var(--disabled-fill-color);\n",
              "    box-shadow: none;\n",
              "  }\n",
              "\n",
              "  .colab-df-spinner {\n",
              "    border: 2px solid var(--fill-color);\n",
              "    border-color: transparent;\n",
              "    border-bottom-color: var(--fill-color);\n",
              "    animation:\n",
              "      spin 1s steps(1) infinite;\n",
              "  }\n",
              "\n",
              "  @keyframes spin {\n",
              "    0% {\n",
              "      border-color: transparent;\n",
              "      border-bottom-color: var(--fill-color);\n",
              "      border-left-color: var(--fill-color);\n",
              "    }\n",
              "    20% {\n",
              "      border-color: transparent;\n",
              "      border-left-color: var(--fill-color);\n",
              "      border-top-color: var(--fill-color);\n",
              "    }\n",
              "    30% {\n",
              "      border-color: transparent;\n",
              "      border-left-color: var(--fill-color);\n",
              "      border-top-color: var(--fill-color);\n",
              "      border-right-color: var(--fill-color);\n",
              "    }\n",
              "    40% {\n",
              "      border-color: transparent;\n",
              "      border-right-color: var(--fill-color);\n",
              "      border-top-color: var(--fill-color);\n",
              "    }\n",
              "    60% {\n",
              "      border-color: transparent;\n",
              "      border-right-color: var(--fill-color);\n",
              "    }\n",
              "    80% {\n",
              "      border-color: transparent;\n",
              "      border-right-color: var(--fill-color);\n",
              "      border-bottom-color: var(--fill-color);\n",
              "    }\n",
              "    90% {\n",
              "      border-color: transparent;\n",
              "      border-bottom-color: var(--fill-color);\n",
              "    }\n",
              "  }\n",
              "</style>\n",
              "\n",
              "  <script>\n",
              "    async function quickchart(key) {\n",
              "      const quickchartButtonEl =\n",
              "        document.querySelector('#' + key + ' button');\n",
              "      quickchartButtonEl.disabled = true;  // To prevent multiple clicks.\n",
              "      quickchartButtonEl.classList.add('colab-df-spinner');\n",
              "      try {\n",
              "        const charts = await google.colab.kernel.invokeFunction(\n",
              "            'suggestCharts', [key], {});\n",
              "      } catch (error) {\n",
              "        console.error('Error during call to suggestCharts:', error);\n",
              "      }\n",
              "      quickchartButtonEl.classList.remove('colab-df-spinner');\n",
              "      quickchartButtonEl.classList.add('colab-df-quickchart-complete');\n",
              "    }\n",
              "    (() => {\n",
              "      let quickchartButtonEl =\n",
              "        document.querySelector('#df-5bb57de3-ba13-4eca-8149-42bbd4e1bca3 button');\n",
              "      quickchartButtonEl.style.display =\n",
              "        google.colab.kernel.accessAllowed ? 'block' : 'none';\n",
              "    })();\n",
              "  </script>\n",
              "</div>\n",
              "    </div>\n",
              "  </div>\n"
            ]
          },
          "metadata": {},
          "execution_count": 1
        }
      ]
    },
    {
      "cell_type": "markdown",
      "source": [
        "Как можно заметить, мы имеем 20 текстов на русском на темы: искусственный интеллект, экономика, медицина, космос."
      ],
      "metadata": {
        "id": "iW0D2xO1EZ4D"
      }
    },
    {
      "cell_type": "markdown",
      "source": [
        "## ✨***Что такое латентно-семантический анализ (ЛСА | LSA) и зачем он нужен?***✨\n",
        "\n",
        "Все языки имеют свои тонкости и нюансы, которые довольно сложно уловить машине (иногда они даже непонятны нам, людям). Сюда можно отнести разные слова, которые означают одно и то же, а также слова, которые пишутся одинаково, но имеют разное значение.\n",
        "\n",
        "\n",
        "Например, рассмотрим следующие два предложения:\n",
        "\n",
        "\n",
        "    Непреступный замок на обрыве берут голодом.\n",
        "    Этот замок никому не открыть.\n",
        "\n",
        "\n",
        "В первом предложении слово \"замок\" относится к строению, а во втором - означает, ну, замок.\n",
        "\n",
        "Мы легко различаем эти слова, потому что способны понять контекст, лежащий в основе этих слов. И как же нам донести его до машины? Именно здесь на помощь приходит *латентный-семантический анализ (LSA)*, который пытается использовать контекст вокруг слов для выявления тем.\n",
        "\n",
        "Таким образом, простое сопоставление слов с документами не поможет. Что нам действительно нужно, так это определить темы, стоящие за словами. ***LSA*** - одна из таких техник, которая позволяет найти эти ***скрытые темы***.\n",
        "\n",
        "✨ ***Латентно-семантический анализ*** -- метод обработки информации на естественном языке, анализирующий взаимосвязь между библиотекой документов и терминами, в них встречающимися, и выявляющий характерные факторы (тематики), присущие всем документам и терминам. Например, группа слов, таких как \"галактика\", \"квазар\", \"звезда\", будет соответствовать теме \"космос\". Один документ может содержать в себе несколько тем.\n",
        "\n",
        "Применяется для кластеризации документов, организации доступного онлайн контента, а также\n",
        "\n",
        "\n",
        "*   для фильтрации большого количества резюме, что существенно упрощает задачу отбора наиболее подходящих кандидатов;\n",
        "*   для оптимизации поиска: можно для каждой статьи выделить тематику и ключевые слова, по которым ее легко найти;\n",
        "*   для повышения качества рекомандаций;\n",
        "*   в области здравоохранения возможно применение для выделения важной информации из неструктурированных отчетов."
      ],
      "metadata": {
        "id": "uF9aFK7lh1p0"
      }
    },
    {
      "cell_type": "markdown",
      "source": [
        "## ✨***TF-IDF (term frequency–inverse document frequency)***✨\n",
        "\n",
        "***\n",
        "\n",
        "✨***TF-IDF*** - это мера важности слова для документа.\n",
        "\n",
        "В названии ***TF-IDF*** объединены 2 термина:\n",
        "\n",
        "***TF (Частота термина)*** -- обозначает, насколько часто определенное слово появляется в данном документе. Таким образом, ***TF*** измеряет важность слова в контексте отдельного документа.\n",
        "\n",
        "***IDF (Обратная частота документа)*** измеряет, насколько уникально слово по всей коллекции документов. Слова, которые появляются в большинстве документов имеют низкое ***IDF***, так как они не несут большой информационной ценности.\n",
        "\n",
        "***Формула вычисления TF-IDF:***\n",
        "$$\n",
        "TF\\text{-}IDF(t, d)=TF(t, d) \\cdot IDF(t),\n",
        "$$\n",
        "\n",
        "$$\n",
        "TF(t, d) = \\frac{n_t}{\\sum \\limits_k n_k},\n",
        "$$\n",
        "где $n_t$ есть число вхождений слова $t$ в документ, а в знаменателе -- общее число слов в данном документе.\n",
        "$$\n",
        "IDF(t, D) = \\log \\frac{|D|}{|\\{ d_i \\in D \\, | \\, t \\in d_i \\} | },\n",
        "$$\n",
        "где $|D|$ -- число документов в коллекции;\n",
        "\n",
        "$|\\{ d_i \\in D \\, | \\, t \\in d_i \\} |$ -- число документов из коллекции $D$, в которых встречается $t$.\n",
        "***\n",
        "✨ *Пример расчета TF-IDF*\n",
        "\n",
        "Пусть у нас есть 3 документа:\n",
        "\n",
        "1. \"Ясной ночью Иван наконец смог остаться наедине со своими мыслями и полюбоваться звездным небом.\"\n",
        "2. \"Иван вернулся домой и почувствовал нарастающую тоску.\"\n",
        "3. \"Яркий солнечный, стремительно ворвавшийся в комнату, ослепил мои еще не ясно ощущающие этот мир глаза.\"\n",
        "\n",
        "Рассчитаем TF-IDF для слова \"Иван\":\n",
        "\n",
        "* для начала вычислим TF для каждого документа, в котором встречается это слово, в первом документе всего 14 слов, во втором -- 7, термин \"Иван\" в каждом из них встречается 1 раз, тогда\n",
        "   $$TF_1 = \\frac{1}{14},$$\n",
        "\n",
        "   $$TF_2 = \\frac{1}{7};$$\n",
        "\n",
        "* теперь найдем IDF: всего у нас 3 документа в коллекции, искомое слово встречается в 2 из них, тогда\n",
        "$$IDF = \\log \\frac{3}{2};$$\n",
        "\n",
        "* теперь расчитаем важность слова для каждого из тех документов, в которых оно встречается:\n",
        "\n",
        "$$TF\\text{-}IDF_1 = TF_1 \\cdot IDF = \\frac{1}{14} \\cdot \\log \\frac{3}{2} \\simeq 0.013,$$\n",
        "\n",
        "$$TF\\text{-}IDF_2 = TF_2 \\cdot IDF = \\frac{1}{7} \\cdot \\log \\frac{3}{2} \\simeq 0.025.$$\n",
        "\n",
        "Заметим, что важность слова \"Иван\" выше для документа, в котором слов меньше, то есть, где оно встречается на 7 слов, а не на 14, как в первом документе.\n",
        "\n",
        "***\n",
        "\n",
        "✨*Большой вес в TF-IDF получат слова с высокой частотой в пределах конкретного документа и с низкой частотой употребления в других документах.*\n",
        "\n",
        "***\n",
        "Мера TF-IDF используется для представления документов коллекции в виде числовых векторов, отражающих важность использования каждого слова из некоторого набора слов в каждом документе. Подобная модель называется векторной моделью и дает возможность сравнивать тексты, основываясь на применении какой-либо метрики (евклидово расстояние, манхэттенскае расстояние, расстояние Чебышёва и др.): чем выше показатель TF-IDF, тем реже встречается слово, и наоборот.\n",
        "\n",
        "***\n",
        "Просто получить TF-IDF можно с помощью языка программирования *python* и библиотеки *sklearn*.\n",
        "***"
      ],
      "metadata": {
        "id": "5QziEuXrh6w5"
      }
    },
    {
      "cell_type": "markdown",
      "source": [
        "## ✨***Реализации ЛСА***✨\n",
        "\n",
        "Допустим, у нас есть $m$ текстовых документов с $n$ количеством уникальных слов. Мы хотим извлечь $k$ тем из всех текстовых данных в документах.\n",
        "***\n",
        "\n",
        "1. Для начала нужно создать document-term (документ-термин) матрицу размерности $m× n$ заполненную TF-IDF мерами:\n",
        "\n",
        "![m_photo_2023-12-29_22-36-33.jpg](data:image/jpeg;base64,/9j/4AAQSkZJRgABAQAAAQABAAD/4gHYSUNDX1BST0ZJTEUAAQEAAAHIAAAAAAQwAABtbnRyUkdCIFhZWiAH4AABAAEAAAAAAABhY3NwAAAAAAAAAAAAAAAAAAAAAAAAAAAAAAAAAAAAAQAA9tYAAQAAAADTLQAAAAAAAAAAAAAAAAAAAAAAAAAAAAAAAAAAAAAAAAAAAAAAAAAAAAAAAAAAAAAAAAAAAAlkZXNjAAAA8AAAACRyWFlaAAABFAAAABRnWFlaAAABKAAAABRiWFlaAAABPAAAABR3dHB0AAABUAAAABRyVFJDAAABZAAAAChnVFJDAAABZAAAAChiVFJDAAABZAAAAChjcHJ0AAABjAAAADxtbHVjAAAAAAAAAAEAAAAMZW5VUwAAAAgAAAAcAHMAUgBHAEJYWVogAAAAAAAAb6IAADj1AAADkFhZWiAAAAAAAABimQAAt4UAABjaWFlaIAAAAAAAACSgAAAPhAAAts9YWVogAAAAAAAA9tYAAQAAAADTLXBhcmEAAAAAAAQAAAACZmYAAPKnAAANWQAAE9AAAApbAAAAAAAAAABtbHVjAAAAAAAAAAEAAAAMZW5VUwAAACAAAAAcAEcAbwBvAGcAbABlACAASQBuAGMALgAgADIAMAAxADb/2wBDAAMCAgICAgMCAgIDAwMDBAYEBAQEBAgGBgUGCQgKCgkICQkKDA8MCgsOCwkJDRENDg8QEBEQCgwSExIQEw8QEBD/2wBDAQMDAwQDBAgEBAgQCwkLEBAQEBAQEBAQEBAQEBAQEBAQEBAQEBAQEBAQEBAQEBAQEBAQEBAQEBAQEBAQEBAQEBD/wAARCAEaAZADASIAAhEBAxEB/8QAHQABAAICAwEBAAAAAAAAAAAAAAYHBQgBAgQDCf/EAGUQAAAEBQICAgoKDwIICgsBAAECAwQABQYHEQgSEyEUMQkWFyJBVHW00tMVNzhRV3aTlZbVIzI1NkJYYXF0d5SXsrO1M2IYJDRSU2WBkSU5Q0RWY3KhorEZJyhFVWRmc4SS1PD/xAAbAQEAAgMBAQAAAAAAAAAAAAAABAUBAwYCB//EAC8RAQACAgEDAwMCBAcAAAAAAAABAgMRBBIhMQVBUQYTYSJxFJHB8AcyQlKBobH/2gAMAwEAAhEDEQA/AP1ThCEAhCEAhCEAhCEAhCEAhCEAhCEAhCEAhCEAhCEAhCOB6oBHMV1WF8aQpGehTXRpnOZoUMrNpW3BYyPLIAfJgDI+8GRDwgHLOSoK6tN3AWdMZck+YTBjgV2EwQ4K5CiOANgBEBAfyDkPDjlEWvMwXyfaraOpqjNjm3RE90zhHGQ9+GQDwxKbXMI4yA+EIZAOsYDmEcZD34ZD3wgOYQhAIQhAIQhAIQhAIQhAIQhAIQhAIQhAIQhAIQhAIQhAIQhAIQhAIQhAIQhAIQhAIQhAIQhAIQhAIQhAI+a6nBQUW2mNsIJsFDIjgOoA8Ix9I4N9qP5oxMTMagUPpYlqb2RzitJhhxNZnMFAWcHABOPUY3P8pjCIxdwS5gR4MyBmiDsU+EK+wOIJM527uvGfBFA0u9n+nebzenJtSs4m9MvXJnUuey9LjnLkPtThkAAcYAc45gIgAgPKShfWfKsZnPkLYz4JQgQibIx0fs67g2cbyB9onyABMG7GfDnEU3B5WLj8euHJuLVjvGp8x5nx7/1QePlpjxRS3mPPb+/7lEphWd3528uDOZFXRJbLKRduU02wy9BQVCJifBQMYgiA4L1jnrjNz27tWSyzVLzZkoi4qapjkaJLHTKAFOIjuU2AG0R+1DGMAJs45YHrSFCVBJrC1MnMmbhWeVA1du1EdomVMc5B2gIBzEw+974xjZxQdVP7JUU/lMoWUnNLLEfCxUIJVTkAwiYoFHnnIEHHWIAOOeAiH08nFS1om27U3PeZ1u3fXftMV+GjWWlZnvua7/79vzp9anl94rSyJO4C9x1Z4k2VR9kpc6TymYhzlKIEEc474wBywPPP5I5uhW0zmlcUfK2deOaXkc5lYPVnCa5UQIJhOICYw4D8EocxxHxuBcac3cpotvKXoKftnkzVRK+VfteEm3IQ5TjtMAjnvihzEA5APLI8uly6QVkFZ0Q9mFHP6ikMolJWTpJo0BxuOUT8hJnH4QDzx4cZxHnLM9Nv4eZnHunnqnvv9X51rW9F57T9qZ6f0/Pz3/PjyzlpatqNS4k1o5Ksz1hIGrQFiTMxAHhLcu8BUORw5j4R6uWOcY+ska2lx5rNZ5f2XyqatSquGUobqpIk2hkyaYpmEBNkMAG4DD/2o6W5kEzmF2FqtpOh3lH06WXmbqouUuF0lQc4Nws4DmJeQcu9z1iMQmQShnJZVPaZq21s4ndbPl1you1mvFRMY4CAK8UR5YERNuABz155wm+T7FcdonzbU7v89ta/V33238MTa0Y4rbfv37/8fn9ttg7OVfMa5t/LZ/NgL004HSXMUu0DnIYS7seDOM4ibxWeniWTKUWvl7GbMHDNyRZcTJOExIcMnEQyA84syL/hze3HpOTzqN/vpY4ZtOOs286ghCESW0hCEAhCEAhCEAhCEAhCEAhCEAhCEAhCEAhCEAhCEAhCEAhCEAhCEAhCEAhCEAhCEAhCEAhCEAhCEB1EgGDAgAhDYGOQBHaEBxiONvvR2hAddgB1AEBLHaEB1xASgP4IR2hAcAGI5hCAQhCAQhCAQhCAQhCAQhCAQhCAQhCAQhCAQhCAQhCAQhCAQhCA4EMhiKqsfTjef2WoCezmdVK8mEypeVO3bhWon4nWWUaJmOcw8bmImEREffGLWivtPHtAWz+J0l8ySgJB2jSXx2oPpC/9dDtGkvjtQfSF/wCuiQwgI92jSXx2oPpC/wDXQ7RpL47UH0hf+uiQwgI92jSXx2oPpC/9dEBnUgSQv1R1OozypSSx9SNSvXDUKjf8NVdB5JSIqGDjczEK4XAB95Q3vxb8VnUHulKD+I9WefyCAlfaPJPHp/8ASF/66HaPJOvp0/8ApC/9dFDa57uXJsLStB3YpCeLtaYlday1rW7NOXt3HSZKufCoidUhhREDFKQpiCUdywc+QBGb1v3grSz1gns2tY6BKvKgmkup2lg4KSxlJg6cFKBSEVASHPwirCAGAQyAZDEBb3aPJPHp/wDSF/66HaPJB6n0/wDpC/8AXRWek2+I3o0u0ZeGpngFeuJOYs8cKlTTy8aGOg6WEpAAhCnUROoBQAAApw5BFf6WL43urjS3NL/VPIH9czmo55MXtJ00wQasV0pcLorVqyFUQITaU6aihl1BEQSETCJ9oAIbGdo8kzjp0/8ApC/9dAaGkvjtQfSF/wCujV3TPefU1VGrK4Vqr+u6dZISml2M6ZyCRJFUbywy6hNpBdGICqyoJnAFBEwp7wESAAYjcIfB+eApnTdIyVRp2tbU1Qz6pn81m9FSR++dr1HMDKOHCrFE6ihx43MxjGERH3xixu0eSYz06f4D/wCoX/rohWlEBHSxZwAEQHuf09zDwf8AByEV5obvNcK5NOXCoW8lStJzXdtK1mFNzBwkgk3UcNCGAW7g6SJSpkAw8YhRKUAMCGRyOREL47R5J49P/pC/9dDtHkgdb6f/AEhf+ujT2xmsSv66171/ZupplwLeqnmklo5suwTTMebSkyBXhUlilA6gGJ0pUeIJgAAIBdvMBtO793q/Jq9s3YC3c/KzZzBjNKnrZIGSSxzSpImxoXeoURTKouRUgiQQNnbzAOQhd/aPJOrp0/8ApC/9dDtGkvj1QfSF/wCuikq9tBrCrKoqhndParWFCS7iqJ09JZVR7R8kRAojw1Ha7rcodQwY3gQAIXHe5jz6ANQddaibHu57ctuz7Z6UqB3S0yes9pUpiq3TRUByBCgBSCJVylMBe9ExDGACgYCFC61qJlATFumEwqHYKKphL2wv8CIGTwP9t+Uf98ertHknV06f/SF/66Mqt91G36Ot/EnGuesy8dw7DTqztwJHU7aXUK6rVvT1btnLZEySjJ4GCuTrGKJ0QQBNU2SGKAiYoGyHKAvftGknj0/+kL/10O0eSY3dOn+OvPbC/wDXRRWv+91wLJWFTf2kVcJVzVM/l9OU+sg0Rcim5VMZU4imsUxDZRbrE5lHAnKPgyEysdfuSV3pWprUFVE2QI07VvZeoHaSQlTRXapGCYCBA54IqiuGAz9rgMwFh9o8k8en/wBIX/rodo8k8en/ANIX/ro1nsFVOrq9Gj2nq1Y1vTzC4FbTFZ2E0msrICUmkx11CkMg2SIBXCpUyEMmCvI3EATnHHOI1jXep3Snfuzcir2/Jbr0hdOeBS7xi9pxlK3LByodJMjlE7YoCJQMsUwlMIgBSmLgRMU5Q3G7RpL47UH0hf8Arox1NUbKnVOyty4mNQqKrMkFFDmqF/kxhIAiI/ZvfiZRiaT+9aTeT2/8ssB5O0aS+O1B9IX/AK6HaNJfHag+kL/10SGEBHu0aS+O1B9IX/rodo0l8dqD6Qv/AF0SGEBHu0aS+O1B9IX/AK6I+ypJgpX05l55rUYtkJPLF00hqF/tKodZ6U5g+zdYgmQB/wCyEWDEZl/tlz7yFKfOJhAfXtHknj0/+kL/ANdDtHkghnp0/wDpC/8AXRReqq8Fx7L3YsNOJPOEkaAqirVKSqtmdBEwrLvUylYKAcxBUTBMxHBzCQ5c7QAwGAcRheyO6g7k2DsrK1rMPhb1vUc7IyZCkyTeuEmiKCrl0smgoQ5DgUiJSmExR2lVEeQgAgGx3aNJPHp/9IX/AK6HaNJfHqg+kL/10QKmL+yuZaWWepJ+kRRsFF9tL1BIwFAFE2grLIFEeowHKcn5wxEb0qXVqlbTFbevdStwJSjVFcARRF3MFGcvI8O8VUUl7dIqYJpmVO2FISkKG8RzyEQGAuHtGkvjtQfSF/66A0NJcf5dUH0hf+uiC09q0021Xcxez1O3jp1/Vrc3D6AkuO1VXwpJLiHBWVDA5TTOY5cDkAwMW0PVARu2jt0/txSj585VcOXEkYqrLKnE51DmQIJjGMPMREREREeYiMSWIran2rqO8gS/zckSqAQhCAQhCAQhCAQhCARX2nj2gLZ/E6S+ZJRYMV9p49oC2fxOkvmSUBYMIQgEIQgEVnUHulKD+I9WefyCLMis6g90pQfxHqzz+QQHn1TWqJe3TvcC2ANCuXU6kjj2OTOoKZfZBIOMzExg54BwkiYevkA8h6o07tRc7/CmqDR1R3SjvyUxI3le1WidIRMVzKyjLWTkTj/nPiOBx/eKPhAY/RiNddPOiqhNO1063ujT1QTKZOKr4qDBm6KBUZIyVdKOlWqG0eaZlTkHmAY4fvmMIhqBUNZuNO1qtX2mKTN2QTBWqEE6PlyYGICzOqAImVq2KHMxkG4nNgOW4B8HV+jlpKAYWrtfSdtZaYp29MSZpKiqFLtBUUUikMpj3zGKJh/KIxT91NEtB3Y1K0bqTnFRzRm/pIGRzypsUgN36zNdRdqqob7YBIc4Z69xSFDlzEbruDTlQVZR0zp2lq1e0jNHqRSNp0ybpLrMzAcoiYpFQEhsgAl5h1GHGBwMBrDbHl2Tm8vxBkn/AJoxt+Pg/PGnUt0HXVlFxJrdiX60K0Rq2dskZc/mYU/LxOu2SEOGmYol2YDaHUUB5c43CSIdNFNNRUypylAplDAACcQDmI4wGR/IEBV2k/3LNm/1f09/TkI1orGt2+k3W5dWsHpBGn7l2vUrNJA5ARSczmSJHKZqmp1CcW5FFDD17nAchyEbL6T/AHLNm/1f09/TkIh2r7RjRur6XUw2qSqZrTzul3Dk7d5LilMc7dyQhXCAlN3vfcNPvsDjaIYEDDAaiOqBmFgtJelnUqJna0zoip2tS1Q/ROG8ZRUJ9z0ywn5mUEqjRuI9ffj+cNjNOBFbpaxL/X3XUWcyymVmdr6dVOYuEQaEKtM0SgHPb0oyagCPXxDf7L3vLZumL12fqKzVQEBrKJ/LuglMgmX/ABQxBKZBUheRcpKETOUOrJA8EYjTXp+kGmq1TO2UgmzmbnI7dTB/NnaZSuZi6XUExllcdZgLsTARER2plyIwEG1Y6hZ3RCTGxtlmwzq8lfoHbSBiiIYlSBgEp5o5MPJJJIAOYomAdxidQlKfE10u6fpBpmszJLVyVyV84agd3NpnwikPMZgsO5Zc2OYhnBCbhEwJpplETbcxTRtBlZyu8Fb3oojVVVtPT2uXqi7xYJKyeLIthUEyTNNZcDHKimXYQpS4DaknkO8Li87K2zuPbdvNkbg31nlyTPzomaHmktatBYgQDgcCcAobgPuLndnGwMdYwE/W+6jb9HW/iTimtbVqz3k0s3Golq0WczA0mUmUtSQR4iyjxmIOUUkw69yh0QT5c8KD+aLlW+6jb9HW/iTj1iGQEBABz78BoDba5hNWt+NLy6r1F8WjbdPrh1FxM8NzM1dkrAAIHIFEXiaqhRH8EREMeGqX1T1JanTjfzRPIFHydSJ3Mb0VRjRZVIAGVVCtxWqACPIAUbpvTmEcY6R4PBuVpV0UUNpQqCtJ1SFRzKaJVWoiRq1fEKISlmkquoRsifmYxcuB3CIhuEhREM5GOKx0SW6rHVTItUzyau0ZhKStV3MlIiUWkwftU1E2rxUwjniJFOmBcBy4JOrnkLW7nz2nLPIWutfVKlLOZTIEpHIpudmm+PLxRQBJBYUVMEWEu0oiU2ANgQ5ZjRO89PXZ0fXZtzqf1FXNl19JIWclpozl5Jzyh5TPSk1NzmXtGyxmpzCRM5jiZPebhEIUSibiE3hvXbKpLpUqylNI3XqS3k5lcySmjObSQxB3KJkUJwXKJw2OW4goJjImwAmImI/a4Gk5forr2s63pertUGpicXZZUVMCzeSyMlOtJHLyviiAprOU2xjdIEghkoGx4QHJDHIYNrYxNJ/etJvJ7f8AlljLRiaT+9aTeT2/8ssBlo43BnAxzFUzKwbSZakZVqMNWs8ScyumVKaLIk1QBiqQ6x1BWMHXuyfmHUIkTHPe4ELUE5Q6xjkDAbqGKKpXSqypaT3qlCdz6sdlvM+mL1dVVyG6SGdpKJj0T/NMQFMAYfwUkS47zIzmxVqEbHWmpu1LaqZvUSNOtTNiTGaqgo4VKKhjgURD7UhN+xMnPYmQhcjtzAT2IzL/AGy595ClPnEwiTRGZf7Zc+8hSnziYQFNdkGtqrc3STXrFgG2aSBkWpZcsA4OkswMDgwkEOYHFIipAEOffxVFvq9Z6s9VFn6sBJNSUUTaRWrnqbRwVVBCcTwhWirFUfCJESrchwOSjnHPO7rlsg8bqtHSCayCxDJqpKFAxDkEMCUwDyEBAcCAxrzpB0VUTo/RqwlLVPM58tVThsZReYJkKdBu3BQEUQ2chxxj5Nyzy5BiA0rSnU1lGkmrtBsvmZU6mQvIna6WiBTHWSlL56LxF6qX/RqAk8DljvQ8HXF99k/piTSvTzaqjZSyLL5S1uRT0rbN2ZhRBu2K2dJkImJRASbSAAFwICGAxFrudE1DutXBNWqlTzX2R2JKqyISE6Eo9SZmZpORHryVIwiADkQPkQNgcRM9SOnmTakKXpyl55UL2TpU7U7Cp0lWqRDmVUbAoUEjAbkBTAqbn1gIB19UBrl2Ri39C2w06UNOKAo+TyF5QtbSRWQKMGhETMfspslIJQAdoiBRMAj3xilMORABjebnjnFUalNPsp1KW7Rt3PKhdyZslNmc26S0SKooJm59wEwblg2RDPg/L1Ra4BguBgItan2rqO8gS/zckSqIran2rqO8gS/zckSqAQhCAQhCAQhCAQhCA4HmAhFb6eU342BtoJXLcA7T5NgBQMI46El/fiyYr7Tx7QFs/idJfMkoCccOY+NN/kDenDhzHxpv8gb04hN6KyurQ9KITe0Fm+6XOlHyaCso7YW8m4TcSHEy/HcFMQ20xSF2AGR4mfwRjVqW69tTc4u7NbES7QkK1dSOWFnL+U906Xl4LMwpAVTjC3BE3NdLvSnE3fdXIcBu3w5j403+QN6cOHMfGm/yBvTimJ1qbJbC0kgrvUBb+Y0ZVtQu1ZcyoeUuiVBMnb0FVAQbNjNigVc6qZCHz3pSCqUhjAOM9dI+plfVJRNS1c7t08opxTdUvKZWljx70hcDoJIKGMp9jT4R8r7TJ4NtEg98OeQXTw5j403+QN6cVpP034akqFAXSGRoiq8fYDYAOnyDP4f5otSKzqD3SlB/EerPP5BAWHw5j403+QN6cOHMfGm/yBvTjz1HUMnpKQTKqaifpMZTJ2iz9+7WNhNu3SIJ1FDD4AKUoiP5AjT0NbOo+d2+d3/ozSML21TYiz1Fd7VCTecu5Wlu3vitQTMBCAUpjATJhMAZKJiiBoDcrhzHxpv8gb04cOY+NN/kDenEdtVcylbyW6p+6FEuzOJLUbFN62E+3iJ7uR0lAKJgKomcDJnKAjtOQwZHERi9lxru0Y4kUis3ZJevptO+knWcLzZOWy2UooiiUVHK5ymETGFcNiRCicwJqiHIgwFk8OY+NN/kDenHApTHl/jbfr/0BvTjXGx2rCuKrvhN9Nl97QkoCumUqGey47SbkfsJsxBTYJ0T7SiBueQL32QIru2GIJR2XHwfngKj0pJvx0uWdEjlACjQFPYAUTCIB7HIeHfFqcOY+NN/kDenFZ6T/cs2b/V/T39OQiJXu1N1RSF0ZNYKydrxr+4s1lpp47bLzEGDCTywFOGDp0uJTdZw2gmUNw8vCZMDhfPDmPjTf5A3pw4cx8ab/IG9OKCsPqfquuLq1Bp/vTaw1A3EkUtJPEWzeYBMGE1lhlCp9KbrlIUAADnKUSDz5j4SnKTYUxgKUTD4IDz8OY+NN/kDenDhzHxpv8gb041VbdkMoipb8UPaK3dATyoKerOYO5YhWyu9nKll26YmVBiJ0x6aBDABDmKYhQExRATgICO2cBil0piM0bf423/ydb/kDf5yf9+PZw5j403+QN6cdFvuo2/R1v4k48VZ1fT1v6SnNc1ZMCsZNIGC8yfuTFE3CQSIJzmApQExhwUcFABERwAAIjiAyHDmPjTf5A3pw4cx8ab/ACBvTjTRzrY1JJ24NqIQ0hHG04JeyRVVanSJOzSfG4Jj0XhiUCbO/wBm4R299u4f2SNuKGrOQXFoyR17SzoXMnqKXN5oxVMUSmOgsmByCYo8ymwYMgPMByAwGT4cx8ab/IG9OHDmPjTf5A3pxRWpPUlXlmK3t1bi2dkRuTUdxQnAs2QVIjJ+EEvSRVU+yLJHIbJFTDzMXHDwG4TAEZayl1NR1c1E9lt49K42xlSDIV20z7d2M66Q4A5ABDhNyFMTJTHNvHl3mPCEBbwpTEQEOlt/kDenGKpNOY9q0n/xtv8A5A3x9gN/oy/34z8Ymk/vWk3k9v8AyywHt4cx8ab/ACBvThw5j403+QN6cemEB5uHMfGm/wAgb04cOY+NN/kDenHphAebhzHxpv8AIG9OIxL0ph3S56PS2/3DlOfsBvGH/wDfiYRGZf7Zc+8hSnziYQGd4cx8ab/IG9OHDmPjTf5A3pxiq9renba0VO7gVc+BnJqeYLTF8tjIlRSIJjbQ/CMOMFKHMREADmMajONbupJrbcmolTR+oNpjpFmPFTqdM87LJzYEJkLUE8cPYIKCTPIuTCYEwFWA3O4cx8ab/IG9OHDmPjTf5A3pxjqKq+RXApCS1zTDwHUoqBghMmK2Mb0FkwOQRDrAcGDIDzAcgMQi+2oih7BSyWmqFlOp3P6hOqhT1NSFgd7NJyumBRUIgiQOohTlMYxhKUoCHMREpRCyOHMfGm/yBvTjgyUxEP8AK2/yBvTiqdKeoL/Ccs6wuz2oGpkXr14zNLTPulikKCxk8ipw08525xt5ZxkeuLfHqgItan2rqO8gS/zckSqIran2rqO8gS/zckSqAQhCAQhCAQjjqhuDOMwHMI4yHvwyA9UBzFfaePaAtn8TpL5klFgxX2nj2gLZ/E6S+ZJQFgxo1bT/AI3m7P6sWv8AHKo3ljWijdPFfSLXvXepV8tKe1KoqMQkDIhHBhedJKZkIiZPZtAmGqnPcI8y8uY4DZJRq3WVSXVQTMojnhnEoCYmQwOB8GY1E7G5971+P131N/LaRsDeGaXulUmYq2NpKlp/Mzutr1KoJoqySTb7B74hk0ziY27aGBxy9/wa26SbVaxbGT2oZPVFEW5Vpuua5f1fOXjeoHB3TEHZUwUTQT4IFU28IuNwhnI5EIDdGKzqD3SlB/EerPP5BFmRWdQe6UoP4j1Z5/IICBdkMms7k2jC6jun9/SlJORoptHA9GXcJIuPAPLgqK5DwhkMh1hPLCyqTL6bLdSVRBFWVqUTKGxkjAGw6AsEiiUfyCUYk10KCll07cVRbWcrKIMapk7yTrrJFKKiJF0TJioQDAIby7txch1gAxpvIab7IhSlnA0qyy2FGOUmcnNTUuuaNUFSbt5ds4KZ+ggUXPHTRwBTAGAMUo4NgchPuxZKOT6HbflX3bCLTgqIiXGU/ZR11e/327/y8EbTTWaS2SS11OJxMGzBixRO5cunKpUkUEiFEx1DnMIAUpSgIiIiAAADmNQrwNKu0c6R6DsFpynZzXFmcxl9M0wqDVFZV49UcdJfuRRcbyJpGDpBjmMBiJAqXmHemDO64rPai75yalaDtklTrujelC8rKXPZwvLVJwCRkzIsxUSTMYrcRA4n2iBhEC4EolARCKabCvtTurSqNaTdis2t9JZGNCUGq5bHRWm5CLCdy/ADGyCQKC4IXJQyCuBAp0jhG6o+D88a/Wjeat5XO5BStX2atPTFDMUeiKBT08cGUZN00RBFNu3FAqYFAxUygXIABerqjYHngM9cBVek/wByzZv9X9Pf05CKQsQ1ZL9ke1Nv3QAL5pJqTbNREcmKgpL0jqgHvAJyJiP5cRd+k/3LNm/1f09/TkIp+8Fmb5W21MK6r9N9ISWsnFQ0+Sn6upN/NAly74UjF4Lpu5VykU4ETRIIGwAFS5AcVBEgR29IptOykaeF2Tg5F31KT5q9ITIb25Gj5RMDe+HEyOPfKA+9G6whkMDGrljbPXoqq/0z1XajJFJqanJadLTFMUmwfFmHsOzFXirKruCl2HcGNuKBkhxsUOA+AAyOj6612b0zi7Fe1NOmsxtwpVriW26VSZkQ40vanVSWWIcpAFZE5gTAqhjGHeRYO9AACAhWq9m1l+rjR8wYt0m7ZtOaiRRRSIBCJkKzagUpShyAAAAAADkABG5EaJXStjrzujde1t1X9tbUMnVrnsweNGiVUOjJvRdJJpmBQwoZKBQSAQx78bjW2eXEf0ZLnd1pLJpTVCgK9PZyd2d00SwqcE+GqcpTGykCZhyAYMJg5gGRDNrfdRt+jrfxJxrR2ThZwhoducdsJgOKMsIOBx3ppo0Kb/wiMbLrfdRt+jrfxJxD77WllF9bP1baSduOjNqmlirMjnYJ+ir/AGyC+wDF38NUqam3cAG2YEcDAY6ayWnENNLynWxEgkKdDqMkylABIDQGAkAAAOQhs96Kn7GG5dOtDVslXa6iqgJzZMBOORAhJs8KQoZ8AFKUA94AAIrVGmeyGu7KF0nOLVUQyQCRBSqtyy1QUzUZaCQICcjEC9J44t8lAwgAb++wXqiXX+d19plsdZ7TlpbnrdtXk6m8upeRi5YpLmcNUEjHfPFkxIcpUwwVRdQCDtBUwhgcCATDVBZq/dbXVtJd6wL+gUZzbYJ+VRGsFHoNVgmLdBAMFakE5tpU1R5nJgRJ9sGQjD2r1K3wkWoVlpl1SUdR7CoallSs4pie0es6NLJgREhjKtxI5yoVQhU1jCIiX7QA24MU5p7eurtV1GVQ1mll7Q0pcWlTy4pHMrWn4Sibpv8AiHEyhFlgFuKHD4QbR7/cBueMZrm1dkr63K1IS3VRqSklP0otSslWlFI0jKX4v1GRlwOVdy6cgAJnUEiihABPJRAxeRRJk4bZRiaT+9aTeT2/8ssZaMTSf3rSbye3/llgMtCEVZMZdqENqNlc0ls+kJbOEppRGYS1RMvTzzgVTiVUhuHuAoE4Qf2m3HEyXdtGAtOEUXS0p1dISe8xKqqiknExfPZgpa4ySQAVggZJQGhHmEg3FKbgiO4FDZ4uRMXaETqxzO7zC1NOsr8zWUTOvEWxiTl3KSbGyygKH2GAAKUANw+Hv2lKXfv2gBcBATqIzL/bLn3kKU+cTCJNEZl/tlz7yFKfOJhAa89lGdu2mhy4p2hjFFQ0pSUMUcCCZpo1AwfmHqH8gxct05JTg6e6tpxVugjIu01+yMkQuE02nQTkEoAH4IE5YDwR97/WilV+bN1ZaKcOhaoVLLztSOQJv6MuAgdBbbkN2xUiZ9uQztxkM5jVFemeyGVNZUdKE5tZRTBFaRlpV/cw1Ug5buJbwgQUUKyEouRcHQyAnMAAJzGNgmQAAtzscbh660UWsVmBjmVCWuUyifr4ZXi5Uw/NsAuPyYjYw7Rso6Tenbpi4RIZNNUShvKQwlExQHrABEhBEPDtL7wRqbfeZV1pxtbY7TnplnaSNXzieS6nJcVyzScHcSpogJ5g6UIcolKQoAmdU5QyUFREuBEBC7byzjUFKUZUNiKLo+fqKiv7JhUM2WZAgAbOFwuGmffnKm7OMbS4zkcBR/YsPciyvy/OvPFI26HqjTvRLarVnp9kEltHXFG0Aajkn0xevZuynq6r8hlxUVIBERRAhg4okKOTB3oiPWGI3E8EBFrU+1dR3kCX+bkiVRFbU+1dR3kCX+bkiVQCEIQCEIQHA5EMBGvFdyDWqpVM2e0VXNumVOC4OaXpvSrgsm38HEEEDBux1iBhCNhzCBQyMataxL+W9C0tY27kFesyVQc6EvXaIKDxiFFymDhPqxnhcQDB72YgepXx4sE5Mlprrcxqenc68Oq+juNy+b6pTi8TBXJ9ya1mbY/uRSJtEdUx7a+e3wWdqfUdU9es208vbaioJKzVMM0aSJyZZ3sApgAChwigA7tucmDln80bSF/PGg5ldOtN3EtA/wBPExZhUATlCWTZJi5WOLhoomIHMsBhEDCBueesc884LjfgmeYDGr0vJN6Wra25if8Ad1R4ie0pv1xwq8fkYM+PH9umSkzFZxRhtGr2rPVSJmO+txO+8TEezkc4HHX4Ir/Tx7QFs/ifJvMkosGK+08e0BbP4nSXzJKLRxCwYRAbz33tVp7pVCtrv1QMgkrl8nLUnXQXLvc4OQ5yk2N01DhkqSg5EMcsZyIZpP8A9KLoW8N8Bx7/AGszj/8AkgNqoRRM61u6bZLbmlro9vS7+T1yu6a0wiylDxV9OFm6worEQacIFslVDYImKUuTE59+XPvsXq4svqEnM3pOh5rMmVTyEgqzKnp3LlWExbJAcCCoKSgd8UDCUptojtExANt3FyFzxWc/90nQufDQ9WY/b5BFmRWdQe6UoP4j1Z5/IICzIR1MYCBuGNYJt2SPStKZo6R7Z56/kTB6Mte1TL5A6dSRu6/0QukyCBxHkICmBimAQEBEBzAbHPqYpqaTuWVNMqeljucSQq5ZZMF2iajliCxQKsCKohvSBQpSgbaIbgAAHOIyQAAcgjySecSmoZUznshmTWYy2Yt03bN40WKsg5QUKB01UzlESnIYogYDAIgICAhHnqWp6co2SO6mq2fS+SyiXp8V2/mDkjdugTONx1DiBShkQDmPhCAykdTgIh3o4GILZy+Vrb/0stWto6pCfyVu9VlyjoGbhsAOEykMcm1dMhhwChByAYHPIYnY+D88BVelDH+C1ZzH/QCnv6chFqxVWk/3LNm/1f09/TkI5vdqXtNp+SlSVwJu8NNZ+qKEmksrYqvpjMVAEAEqKCQCI8zFDJtpciAZyIAIWg4boO0FGrpBNZFYgpqJqFAxTlEMCUQHkICHIQGPLJJFJKalLSQ05J2MqlkvRK3aMmTciCDdIoYKRNMgAUhQDkAAAAEVtYvU9aHUOSbN7eTl4WbU+qVGcSWaMVGUwl5xEwACqKgAPWUwZKJgAQwIgPKLRdu2rBqs+euUm7dumZVZZU4EImQoZMYxh5AAAAiIj1BAfaEasOOyW6UW8xQBSpqg7XnLwZcnVfa48CSi7ABEUQcCQBEwAGcgUS477O3nG0TV02etknjNwmu3XTKqkqkcDEUIYMlMUwchAQEBAQgPOvu9lmuOro62f/2Tj2x41vuo2/R1v4k49KqqaKZ1llCkTTKJjGMOAKAdYiPgCA7xjXFNU67nrSqHchly05l6CrVpMVGpDOm6KolFRNNUQ3kIcSEExQEAHaXOcBGt7jskmlZtNhQNU0+PT5X4ys1WJyB2eRA8AM8HpYEwJsc8gAlx327b30bOM3bWYNEX7Fwk4bOUyqorJHA5FCGDJTFMHIQEBAQEOsBgPr1co5jgRxzisLS6mbH31ntRU5aavEKifUooVObAg0cJpIiY5yFEiqiZU1iiKZ8GTMYogADnAgIhZ45wOOuMVSWe1WT58Qb/AMssZaMTSf3rSbye3/llgMtCEIBCEIBEYl+7umT3qx7Byn+fMIk8RmX+2XPvIUp84mEBJoR8HrxpLmiz9+5Sbtm6ZlVllTgQiZChkxjGHkUAABERHkARrEfslGlROakSPU8+LT6j72MJVg0+79gzPMZ4IOtnM3IRzt2477dt5wGyKtM02vUDerF6flqk8aNlGTeZnapmdotzmAx0iLCG8pDGKURKA4ESgIhyjJx8mzlB4gm6arJrILEKokqmYDEOUQyBiiHIQEOeQir73amrRafjSpjcGduxnM/ExZPJJWwWfTGYnKIAJUkEiiPWIAAm2lEeWc8oC1Y4MGQHniKhsPqsszqMVm8tt1PHhZ3T5gLN5JNWKrKYMRExi9+koAZDcUQESCYCiIAbAiARbw9UBFrU+1dR3kCX+bkiVRFbU+1dR3kCX+bkiVQCEIQCEIQHU/MohGplN3AsFOrmXLl965Ba6WOZPUKrJgrMJc1I4dpFDBlFDK5MoYR6zco2zPnaOI1ZtPaW1tTXhu+0rWRUvVczJUHTSgqx6T0JFYomKmZQ5NoHEc5IURwJRzFdzoyzfHXHETuZ8+PEux+lrcPHxubl5c3jppXU4/8ANG8lYn4jWp1O/wD1O6OnWkRapWCVAKWyGoDqCViErbsyuhOJRyCYkLuzt3Zx4MxdZYpwac0021uTTlPN6FpqSVXNSqryZRCSlSMYSAJT7FgJtA2BHvQNuwPVgQzcZRAeqN/Fi1Ymt4ruJ/0/1/Kp9ctjyZceTDOWaWruJy63PeY3WY3E13H89u0V9p49oC2fxOkvmSUWDFfaePaAtn8TpL5klEpSLBjRq2n/ABvN2f1Ytf45VG8saa29oatmfZTLn1+7o+doUu+t22ZNZ2pL1isF3AHlgiiRwJeGZQOGp3oGEe8Ny5DAbhKy9is9RmSrNAzxukoii4MmAqJpqCQTkKbrAphTTEQAcCJC56gjR+RtWt5+ymOrgW/IU0jtBR4yCp5mmUvBczZYXBStSmKPfnIVfBs/ai1OUcYLmfa9ruXpoui5Rb+yFDVu9mlaLKNZjU9NyBzMz07LymICypCIBnpJiqCCWTFxtOYDFMBTB4NKtxbU2vktOWJttp0vlTzRy4w4nNQUI6bJuXhyhxXj50bkBziUMmHBSgBSlApClKAbcxWdQe6UoP4j1Z5/IIsyKzqD3SlB/EerPP5BARPXbW723mkK6dSy4VCuRkKktSOmJwOmZ4crTiFEnMBLx9wD4BLkcAAx9bG2jo55o4o60SksbpyOc0G0ZPUSJgAKi7ZgZwqIcsnOoqooI8h3GEeuJXqQtgpeewteWuapoHe1FInbVhxziRMr3YJmxjmABECgsVMRHA8gGNRqE10doVgpXYl7bGvU9QFNU0SnmlIkpxyqu5dt24IIvQOUuwzYdpFDGAc43bQMGDCFt9jDnT+d6I7dnmThdddkEyYgdZUTm4aUxcFSKAjzApUwIQodQFIAByAAi6roWPtfeZaQnuhSyNRNqaeGmDFg8VUMyFyJdoKLNwNwlxAomAoKFMAbjYDmMa5U7UEx7HLoDpXtop1KpKhkJUEFZMm+K0M4mExfGVUbkVAqu8yXSFAyUpt4ICIYAchsLdq8zW0Unls1f26r2qBmSpkei0nT602XbiBdwmVKl9oXwAIjzHqzzwFAdjDRRbWiuQ3bIkSSSurUKaaZCgUpCgDcAAADkAAHgjcIfB+eNDOx63BqChWlQ2urGxl3JI+q+vpzPmcxmFFvG8uQauCEMmLhwcABIR4Rg5hjIlDPON8s5ABgKs0n+5Zs3+r+nv6chFH2nlw1f2S2+dTz1QrtWgKVp2QSQqhAHojd63K7V2ZDkIqcXmA5wqcOoRCLw0n+5Zs3+r+nv6chGt1x6ge6P9bNV6g65ktQu7VXTpli3mk7lssO6RkczZAkgmDkEtxypiknkDCAbjLiBQNwzYDIXIItRHZULQzSn00G3dEoibSWeCVMNzpJok4dEEw/5wHQbBu69qYF6gjc5+yaTFi4l0waouWrpMyC6CyYHTVTMG0xDFHkYogIgIDyEBjS+0Z19WOsqX6qZVSE8l1tbfUmpKKSms1aqsjzuYujKAq6QSOACo2BBZYmRx32weY5AltW11UPbkzK+LWW2mnJkLNzR1KGyjNx0pSo3TcixlEG5OGUCLAZIheHuOP2dLIhuxAa/a49UdlX1np/pTo+SKpzicrFpJr7LSkZNT8nO2XIAnO6dgkiBEiomMkKO8NyZMYDAxubZikiUDaChqGTnKU3JTtOS2VFmCRtxHYINk0+MUcjkptu4OfUIRqLfnXNZe69paysnJLYXFntw6lkjuWIUI8o52SYt3KiRgTVXJjaQqRhIoJiHMYu0DF5gAxsPo7tvW1otM1vrdXEenc1BJpSBHgGOBxbCdQ6hGu4oiBuAQ5EcgIlEEgEOWIC2Vvuo2/R1v4k4147I5Us1pTRVdKaSZ0ZuutLW0tMcoZEUXb1BqsT8xkllCj+QRjYdb7qNv0db+JOKo1gWjm19dNVf2tkHObTiV8SXJiJCgs7bqkcIJCY4gUoHURITcIgBd2R6oDxTKzlLMtGrqyZZc2PKG9AnlIEFIoFE5WQhxhDABxOKHF3YAd/fdfOI32OCqJtV2ie1s0nawKuEJe6lhBAMYbs3zhqgX/YkgmH+yKPJrlCb6du4GwtrcJzqBVpQtOK0mpTbkrlN6ZqCBn6hhKBCNsjxsiIDtEMgAd8FjqVWv2OzRvbOmkaDXrSeovJfTgyaXvxTUdTd+ZVw4KgfhHMoPGFbYQCZMAlDl1gEp1hXAqeZpU/pctM+FCvbsGVaKvUj99IZAQP8fmRwDqHZuSSARKJjmHYYTEAo1lo8oClbV62tRluqJlhJfJKekdFMWSBQDkQsqJ3xh/COYdxjHHmYxjGHmIxatz9EtK3NvA+vgjeq7lGVNMJYjJ1D0pUCDFMjNPaPBKItznAhjlBQxd+0T99jMUPp90m1jTGty602md0L4kkdPnpp5LJ9MZoOyrxBoQ6zd84M3BN8kkYBR2J7RIXvREB5wH6CRiaT+9aTeT2/wDLLGWjE0n960m8nt/5ZYDLQhFXTG79WMdQ0ssulZ+oHNOv6dPOlq2TKp7HNXIKqFBkceFs3iVMDf2oG78neCA7oC0YRR1M6hK8nsnvFM3+nisJWrbJ3MEJI2WTV31em3IqKajLKJRHimSACgQFQwqmIGMI7QnFkbhz661rZBX9UW7nFCzWboqHdU9NymK6YnIqdPafcQhhAwEA5REhREpyiJQziAnMRmX+2XPvIUp84mESaIzL/bLn3kKU+cTCAorslVUzWkdFFyphJXJ0HLxqzlZjkEQHgOnqCC5REPAZJRQo/wDax+SJdcay9INtH1Q2Pl0tbhJGVCOJQyTXSKoCZkmYgiuIGDAqlUIRUDjz4gAbOecfTWXZ+cX40y15a6nUyKTiasE15cmY5SAq6bLpuUktxhApd50SkyIgAbsiOMxrPOtdalf6fHlj5TbWv3WoGc0wNPPaW7W3DdZm/WbAgq/OY5RIm2KY5lQE5s7doGAoZMAX32PmpJhVejS1c1mahlF05KMvAxjZHhtV1Wyf/gRLE/u7cK11mEmdzq9ly6blUfYNCYy+n3ExeARQDLChlskoqRIRR3DnBNxS554ilHdaLaANKlpKPNRhqvnar+U0gMuZPgbitMXYKKLnSMJDip9lBXaXaAm3F5l5jFiXv1XUZp7qRtLbl0bWrem3UvK8NVzCRqvZQ1UFRQgtl1EsnTVACFMACQQEFA58hgNetH9VU/qE1rXU1O0qdlJ5QNNN6VbSZ04QJOnRiKICo+dtCKGOgUDNeGQVAATFMTHUIRvkPVGg9p3L3Utr+lOp+01Gz+SW1p6jVJVMKhmcqUlyVTuVDOSpggB8C4IUFETbhLkvRgA237EA78D1QEWtT7V1HeQJf5uSJVEVtT7V1HeQJf5uSJVAIQhAIQhAcG6hjTWWXBqPSVcO4DKt7b1BN6eq2oXE/l87lDYFiGBwYTcJQREAAxftcCOc5HGBAR3JN9qOI1quTdC/tiKmmlYVjKJVVFsFXuSuGGE30qROcCplUION+BEC5DPWAiORxFb6hqkVzbms1nzrcRuPePj8+37Ox+kN8jJm9PnFXLXLWI+3N/t2vMWiaxjt469+Kzvq7xETOkRUrye6rrp2+Xoy3VQyKnKNmZ5u/ns2bAjuEC44CWBEB3YABADCPMBEAAoiO4ZAxkI11tm/1PXTqeS17Uy0noihREztKRIFBd+/RMTKQLHEB2dYDyEg4yAk8MbFFjPp1bTW2S25m073MdO+0RGo9o/fu8/WGSlM+DhYYpWmGnTFaXnJ0zNrWtFr6iLW3MzPT+mI1Ee7t1RVWnyo5elYS2qRkJmJiUhJiiJZW5MGQZJdQgngQ/KHKLVivdPHtAWz+J0l8ySixcglnbNLfF5r80uvVxwFSywByDea/NLr1cZblnEOX5YDEhUssDqbzX5pdergNSywRz0ea/NLr1ceuZTaVyWXuJtOJi3YMWaZlXDlyqCSSKZQyY5zmEClKAAIiIjgI8VLVjSFcyks+omqZRUEsOcyZXsqfJu0BOX7YoKJGMXIeEM8oDv2zS3xea/NLr1cVtPqil5tR9DLA3me0lE1WUf+C3Oci/kOMBw8iHIeYcg5Z6wi3sRWk/D/ANpShPy0PVnn8ggJt2zS3xea/NLr1ccDUkrHmLWa5D/VLr1cZYcB78R53cW3zCqW1DP65p9tUj0gKNpOtM0SPlyiAiBiICbiGDkPMC+AYCHXBoCg7m1hQ9WVZ2zOSUDMVZzLZUEuXBgrMBIBEXS6YoCY6qACcyIgYoFMcwiAjjE87ZZZ4tNeX+qXXq4ywc/fjyTabymQy5xOJ5M2suYM0xWcOna5UUUSB1mOcwgUoB74jiA8vbNLfF5r80uvVxx2zSwAAAbzXAf6pderhS9X0nW8pTn1F1PKZ/LFTmIm9lb1N03MYv2wAomYxREPDzjKiADj88BTOlSopehpes+idCZCZOgqfKIkljk5chLkA5GBMQEPygOBi0hqaWD1tpr80uvVxANJ/uWbOfECnv6chFiVBUVP0nKHNQVTPGEnlbMu9w9fuiN0ES5AMnUOIFKGRAOY+GA8jqfMF2i7dEZ02OsmYhVkpS53piIYAxdyQlyHWGQEOXMBiF2ZoG3Vi6AY27olhPhZNDqrru3kudKvH7pU4nVcuVQSDiKnMORNgAxgAApQAoT2n6lpyrJQ2qClZ9L5zK3gCZs+l7ojlusHUIkUTESmDkPUMZLEBie2WWdXRpr80uvVxz2zS0OXR5r80uvVxlchnHOAYEMwEfWqaW+yjcejzX/J1v8A3S6/zk/+rj1jU0tEMC3mvP8A1S69XHpXKAzVsIhnDdb+JOPYIgUBEeoOcBie2WWeLTX5pderiB1lb239fXEo241Up1I8cUGZ24k8uNLnHQCvFylL0tRLg5UXTKUQTMJsE3mEC7sGCYHuNb4lWkoE9c0+Wp1E+KWSDM0QfmJt3bgb7uIJdoZztxjnEiDAhnnAYrtmlof83mvzS69XHHbJLAHPRpr80uvVxlh5BmAYH34DFds8t8XmvzS69XGKpSpZcWl5OUW80yDBuHKVOh/5Mv8A1cSrEYqkgDtWk/6A3/llgHbNLfF5r80uvVxx2ySwRz0ea/NLv1cZbEMQGJ7ZJWI56NNfml16uAVLLA6m81+aXXq4y2IYgMV2zS3xea/NLr1cRphUkuC5E9P0eaYGSSkPuU6zyXf+Dh58MTrERmXlDulz4cc/YOU+cTCAyI1NLR/5vNfml16uOBqSWDy6PNeX+qXfq4yw4AMjmI93RLf9t3c/7eJB20cLjewnsmj0/h43b+j7uJtwIDnbjHOAhtV2+oGuLmUfdGpiVK8eUKR2aSy40uX6Ai6cAQp3Zk+BuOuUhNpBE4lIBjCBQMO6J72yyzxaa/NLr1cZaAiADjnzgMT2yyzxea/NLr1ccjU8tx/k81+aXXq4yuQzjnAQAQ5wEWtT7V1HeQJf5uSJVEVtT7V1HeQJf5uSJVAIQhAIQhAdTci8hjU2/wBZpnM5pNhuFq5dU1JahWE6cjfCkVAqW4BKkUplS7ilEAwOPAHhjbI+BLiPzyr2W0FUEr1CTm4nAc3Jls1dJSwswUEFW0tIoQGwt0xHGOHjBwDODdeB51Hq9qxiitq78+bTWO0bnx538PoP+HmHNbn2zYss49TSN1x0yW3fJWtZiLxMVis95v5jtHu2At1YWpaGqmnZrMNTs+ncvTHc1k7gpU0nqYJiAEKHFHJQyUeQD1B1RsaXwxqLceoqdntZ6faepSasntWy+YJKqotlCqKNWItS9I4mPtMgUogA9ewcdUbdF8Mb+BOOvXjxR2rMe8z7RPv8fCn+p68zJ/DcvmzE3yUmdRSmPURkvWO1IiJidbi2t+Y8Q7RX2nj2gLZ/E6S+ZJRYMV9p49oC2fxOkvmSUWDlnou7ZO2F+KaQo67VJoVFJm7wkwSarLqpARwQhyFUAyRymyBVDhjOO+6o/O6hdHum6bdkkuLZKYWuZrUTJaDbzdjKReugIi7MeXgKoHBUFBEQXV5CYQ77q5BH6lRo1bT/AI3m7P6sWv8AHKoC5Ku0g6YjUlRNI1TTyTOhKAXeuJTTjmbKpyk7p0qCoquCHPlc5TcbYBziUAXWDaIGDGv1kKWoWn+yMzcmkwkvRtujRRS18SRqGUkyc2FdXgIkEuUCuADgGAhB70vSADA8UI2zvAvp6qleV2pvk4o12pNz9OlcmqNRDDtRMdgHRIsIAc5RUxguTd8PLGY1HZSy3dk9f1trd6Sp4DaW1QzmilxqQlL87iUM000hM3dHT3GI3XEc96USiAJpABQBYeIH6DxWdQe6UoP4j1Z5/IIsyKzqD3SlB/EerPP5BAfDVJc5zZrTvcG5cuccCYySROVJcrwgUAj45eE2ESjyMALHTyA8sZjWm2/Y+rIV9pFlzepqRazW4NbU0SfO6ufnUWmYTp43Bfjccxt+0iqhQ2ZApwLk4CJjCN962rfO7oaULnUbLmizp6vIVnrRuiiKqi7hoJXSSRCAAiY5zoFKUADOTBiIJZrVnZ+R6JqZu08raSiSmaPatXzIz5Mq4TNqzKQzHYIgbinUTwQuMmAxTByEBgJF2P25VSXY0iW8rCsZmrMJ0LNxLnjpYxjKrC0dLNk1FDnETHUMmimY5xERMYxhHmIxLL6WKspd2YUxP74IIzCV0qq4OylsxmAoyxZ0tw8KrpZAq5yFSOUgHESgVZbJTbgEKZ0eVDTulHsf1DVXfJ+ampc3bqTJ8uo3VcGSLMJgoo1ykgQ58mI4QyUCiJdw7sYNi7LsPtN9cPZVaa9TqiZm6mHDnErkVQqICZwIb0yrIJLCG8wblC97kQATeAYDVnTXTNuJB2QuuSaX0mqdtU6FSTqoJMqc8mTn4uwFNJMSCKIKlSERApcgTLkobR3hG/Q+D88fn3R8uoKzvZEaLtdpZqBVClKgkU2eXCpeTPTPZTL1U0VhbrnIJjkaqisVAggGwSgKZQAAWED/AKCeAICq9J/uWbN/q/p7+nIRrtO6QlmqjX5WNBXYlCc6oKyVOyw0vkThQxmbqbTAhHAO10vtVBBIyie02S4TIOOZgHYnSf7lmzf6v6e/pyEa+UhVbC0XZMrrSWvJhL5Mzu1S0imtPOXbkiZHirJEjQUSiPLiCYrkQII5EEwHnuCAxlLU1TulTsi9P2xtdKTyiib00k7cuZI2OJWLSbs+Ot0lJMeRA4LcSbC4ABWN4AKAb1G3Y73GfyxpK/mUqvn2TajppQc9bzSUWVo1+vO3rMeO1JMH3HbFZCsTJAV2LAptz/ySgdZTAG0NCXstncyqKvoyiKmJM5zQb4ktqFsVsul0JyYVAKTcoQpVOaSgZTEwd6POA0fuZZWpLa60dMlXXAu3PrgVdVU9nZZg9ekK2YtU0GqXCQYsyZK2SDjGEQ3GExu+EcjH6NRoPqlvhZWfardLU+kt36KmEskM5qBWavWk/aLIMCqNW4EMuoVQSpAYSmABMIZEBx1RvJTNU01Wcmb1JSFQyyeSh3v6PMJa7TdNlthxIbYqmIlNg5TFHA8hKIDzAYD0LfdRt+jrfxJxTutW6s/sppcuHcillRRnEulZW7FwHW2XdLptSLlyAgJkzLgcAEMCJAzyi4lvuo2/R1v4k4oHshdHTivNGl0KfkTXpDskqRmfDAQARTZOkXauM9Y8NA4gHWIgABzGAqGYdj7sono9ct3lFN1LkFpY8+Vqs6ih5oafg1FcywuBEFBT4+fsYjt2+Dd30XvoiupOb0aVLc3DqNVZabPZWdm+cLG3KOXDRdRoouYffUM3FQfyniETPVxalTRCreJeuZECzqjBQBoR8mKwzkzLAsATzu4wLDt24yAAJvtQzHj01VHRui/QvbJa/dRmptqRsB11HDFwoog5mLhd4RudJIhlCnICwlNkvISGziAt6+9m6rvW2lNLM7uz2jKT3LjUbSQkKi/nCY7OEgR4IiZsmAgpxAIURUKfbkoZzSHYoUU22kRg3SAQIlUU4IXI5HAORAI2drO6Ftrc9DG4Vwaapf2RFQGfs1Nm7LpHD27+HxTl37d5M4zjcXPWEahdituVblLTzLLfnr6nAqh3UE5WQkgzRAH6qfGOpuK33cQwbCmPkC42gI9QCMBvLGJpP71pN5Pb/wAssZaMTSf3rSbye3/llgMtCEQh5ei2jC7TKxbup0064mMqNPG0pFutuUZFOcoqgqBOF1pn70T7u9EcY5wE3hFZSbUnZSfsLhTOU1ygu2tUs5b1cforgnsYduVQy2QMmAqgUEleaYHARIIFER5RJra3Jom79ESu41up6nOadnSZ1GL5NJRMFQIoZM/eKFKcolOQ5RAxQEBKPKAk8RmX+2XPvIUp84mESaIzL/bLn3kKU+cTCAq7XNdWe2W0p3CuDS7g7ecNGCTJg4THB26ztwk1KsQfAZPjCcB98gdfVFIVr2PCycg0iTaWIUe0VuRJqYWnRasRUUJMV58i2FYVukGETgkdco/YxESgU3IAMAGi0+yN0XNa70X3Lk8kbGcPGrJtNikKGRFNm7RcrCAeHCSSg8vejHXE1fWmdaLJredpWsjRVnNIKkYsenpnXCbrs8EYCQgibjFVOBTlAB2ABjDgoCMBPtG9ypvd7TBbm4VQOzuppM5Kmm/cH+2XcoGM3VVN+U50jGH8phjXzsgEqs5O9SemWV3/AFpUlQS/bn7Lmmj0zRqAAwamQ3qlMQS/ZwRxgwZNgOecRYmnupaM0e6MLVN74zs9MJnatmanSWi6qiT98dVyDc6aRDHKYu85TZDBdg5EMRc1WVPZJ/WrOgK4mdHrVSmxCZMJZNzNxdi2VMcgqoEV5mKItzgbZnGwN2OUBW2l+0ui2mpnMq60rN6SXdna+xkxeSKfKTAU0jnKoCSgCsoCeTJlMGQAR2+9mNhx6o0BkDO25eyiU2Gm5OTJMWtFTAbiBTYIFl2RMqVEqoId70jji2E4Dz5JeEDRv8PVARa1PtXUd5Al/m5IlURW1PtXUd5Al/m5IlUAhCEAjgeqOY4HqgKqvndua2scUQhK5Y2d9tNTNpIuZcxg4KSgGExy46zBjw8o+tzNO1mLvvk5rXlINnkwTJwyvEV1Gy4l8AGOkYonAPBuzjwYisNckmTqRjbCn1HjpoSZVu0amXaKbFkgOmconTNgcGDOQHA4GPqGhmm8Bi9t1vn1P1UU+a+XLmyYZxRkrGu0zGo7fmH0X07jcD0/07hepU51uJntGTc0reZmIvMb3W0a7dtfzWdbHT1Zyz7lV9QFItmD5wThKPFF1HC4k/zQOqYwkARxkC4AcBnqDFll8PLEULQekeRUFV0tq9vdW4s0UligqlZzGbkVbLCJRLhQoJgJgDOcZ6wCL6KAhnMTuJWaY+mccU17Rr+jlvqHNXk8z71eZblTMd73i0Tv4/VMzOo1767uermMV/p49oC2fxOkvmSUWAIZDEUvYG1lsXliLcPHluaXXXXpKTqqqqShuY6hzM0hExhEmRERERERiUo10xgWtBUOxrB5cJlR0jQqmYNSsXc7Tl6JX7huG3CKjgC8QxA4afeiYQ7wvLkGPD3I7U/BjSfzK29CHcjtT8GNJ/Mrb0IDxXSsdaG9ssSlN2LdyOqEGxVCtjzBoU6zUD7d/BWDCiIm2EyJDFEdoZ6o81p9PtlrGNl2tpbbSOmelgBXK7Rvly4KA5Aqi58qqFAREQAxhAM8sRlu5Han4MaT+ZW3oQ7kdqfgxpP5lbehASyKzqD3SlCfEerPP5BEg7kdqfgxpP5lbehFcT21tsiaiqIZEt1TBW61F1SqoiEobgQ5yPpEBDCXZgRADnAB6w3Gx1jAXkIZDA9UUy60ZaV3tcqXHeWJpFafKnFVRZRgUUTqCO4VDNv7Aygm74TiTcI8855xO+5Han4MaT+ZW3oQ7kdqfgxpP5lbehAV9qPsNN9QrmiKJm8yZo24YTn2aq5jxlCu5v0cAFmyKAF2C3MqYx1hMYDYTT2YEdxZldSxVn73S1CVXYt3JKnRaAoDU79sBlmwH27+CsGFEt2wm7YYM7S5zgI9/cjtT8GNJ/Mrb0IdyO1PwY0n8ytvQgMZaewdmrGMV5faW3MkpkjspCulWTcAXcgXO0FVjZUUAu42NxhxkcdcT4RAMZ9+Ip3I7U/BjSfzK29CODWjtTy/9WVJ9f8A8FbehARfSf7lmzfxAp7+nIRm7rWNtHfGUoSS7Nv5PUzVqJxbC9QAVWwm27xRVLhRITbS52GDOAzmK+0t2vtpMNMlopg/t3TDly5oSQLLLLShudRRQ0vQExjGEmTCIiIiI8xEYs/uR2p+DGk/mVt6EB5bfWit7Zek1aYs7Qckp5qUplU2zVPgEcL7MFMuqAGUOYcFAVDbzYDw4AIhml7T+tY+kpw8qyYMJxcCuZu4qOsZwzREiTp+ucxuEjuADA3SAwlTKIB1nNtKJxKE97kdqfgxpP5lbehDuR2p+DGk/mVt6EBFf8E7Sz+LVav6Gy71MT+lKRpWhJE3peiaalVPyZmJxbS6Vs02jVHecTn2JJgBC5OYxhwAZEwiPMRjFdyO1PwY0n8ytvQh3I7U/BjSfzK29CAkC33Ubfo638SceyIOtaW1YTRuAW0pQAFBYRAJM2wI7k/7n5/98ezuR2p+DGk/mVt6EBApfow0qyquC3Gl1hqQQnxDgqmqSXl4CSgCAgoRt/YEUAQAQOUgGAeYDnnHyv8AWDmF/ayt5K6lcys9tqVmh6jncpWIZRecTBEu1i3MUSCn0UonWOqBhHf3hNuO+Cwu5Han4MaT+ZW3oQ7kdqfgxpP5lbehAK3tLay5wMu6VbWlqt9jeJ0L2dk7d/0bibd/D45DbN2wmduM7S56gjE0zp3sDRU9a1RRlj6AkE5YicW0xldMsmjpDeQSG2KppAcuSGMUcCGQMIdQxlu5Han4MaT+ZW3oQ7kdqfgxpP5lbehASyMTSX3qybye3/lljEDaO1IhjuY0n8ytvQjGUtaa1ilMShRS2lKnMZi3MYxpM2ERHhl5/aQFgRg1qGotxVqNfL0jJVKnbtBl6M6OwSF+m1EwmFArgS8QE9xjDsA23JhHHOMf3I7U/BjSfzK29CHcjtT8GNJ/Mrb0ID6M7XW1lzaomcut9TbVvV51lahSRlLchJudYDAqZ2UCADgTgc4GFTduAxs5yMZWm6ZpyjpK1pukpBLZJKGRTFbMJc0TbNkAEwmECJJgBSgJjCI4DrER8MYbuR2p+DGk/mVt6EO5Han4MaT+ZW3oQEsiMS8Q7pc+8hynziYR8u5Han4MaT+ZW3oRGmFp7WmuPPETW2pYUySSVHKQZO32gYV34CIBs6xAof7g96AtAQzFMSnRlpXkNcJXGk1iKRZz5BQqyCyTAoIoKlEBKok3/sUzlEAEDlIBgHmAgPOJ53I7U/BjSfzK29CHcjtT8GNJ/Mrb0ICvr52KnF9bhW4RqR3Li25ouZHqaZS0THM5m03SACMUzF2bCt0wOsc+TmFQTFIJADvok12NOdjb5ESC7NsJDUiyCZUUXbpsBXaSYGEwEI4JtVITJjDtAwBkR5Rm+5Han4MaT+ZW3oQ7kdqfgxpP5lbehAfC2NmrVWXk55DaugZJTDJXaK5Zc0KkdwYoCBTLKY3qmADCAGOYw8+uJkPVEU7kdqfgxpP5lbehHA2jtTj2sqT+ZW3oQHe1PtXUd5Al/m5IlURW1PtXUd5Al/m5IlUAhCEAjgeqOYQHkdyxi+Mgd6xQcGbKgugKqYHFJQOo5c/amD3w5x6ShjwYjtCMajyzMzMREz4IQhGWCK+08e0BbP4nSXzJKLBivtPHtAWz+J0l8ySgLBhCOu8PywHaEdd5eX5Y5AcwHMVnUHulKD+I9WefyCLMis6g90pQfxHqzz+QQFmQhHAjiA5hHUTgA455GAHKOA9+A7RwPg/PHMcD4PzwFV6T/cs2b/V/T39OQi1YqrSf7lmzf6v6e/pyEWrAIR1EwB78ccQohnA4gO8I4AQHqjmA8a33Ubfo638SceyPGt91G36Ot/EnHsgEI4EQKGRjjeGcYEIDtCOonAPAMdoBGJpP71pN5Pb/AMssZaMTSf3rSbye3/llgMtCEdd5QEQHliA7QjrxC/7o5KYDdUBzEZl/tlz7yFKfOJhEmiMy/wBsufeQpT5xMICTQhHBjAUMmHAQHMI6cQucYGOd4ZAOfOA7RwPVHMcD1QEWtT7V1HeQJf5uSJVEVtT7V1HeQJf5uSJVAIQhAIQhAIQhAIQhAIr7Tx7QFs/idJfMkosDr5RQNhbb1i6sZbp0hf6vGSS1JyhQjZBlIRTRKLNIQIUTy0xxKAcg3GMbAcxEecBf8VTUOm+hal1D0zqYfTGdkqqlJMvI2TZJwmDA6CvHyZRMUxOY4dJUwIHAPtcgOIyXcvrf8Yy4f7DT31XDuX1v+MZcP9hp76rgIfTGj22FJlvOSWTepTBfRZ2tUnFepiLYXJXBVAZiVIOF/laohv3iA7fAGInFjLN0vp+tXIrQ0W9mjuTU+VcjVaZrkVcn4q6i5xOYhCFHv1TYwUAAMB4I8/cvrf8AGMuH+w099Vw7l9b/AIxlw/2GnvquAsSKzqD3SlB/EerPP5BHo7l9b/jGXD/Yae+q4rueW5rAmoSimQ37rs6ytG1QqV2ZnIuKkUj6RgKZQCXAQSnE5RNuKJspk2iUBOBg2IjEVfTMvrWlJzR03OuRjPZe5lroyBwKoCK6ZkziURAQA20w4HA8/BES7l9b/jGXD/Yae+q4dy+t/wAYy4f7DT31XAVjOtBVnJ9prpzSy9n9XlpKmJgMzZu0n6BZgdYVl1RBRTg8MxdzlUMAmGA24wIZid1TpuoWrr/0bqPmkzn5KnoeXuZbL2yDwoMFElyLEMKqIkEd4A4U74hiZwUDbgKABk+5fW/4xlw/2GnvquHcvrf8Yy4f7DT31XAWJHA+D88V53L63/GMuH+w099VxwNr628Oou4Q/nY0/wDVkBj9J/uWbN/q/p7+nIRanXGuGmG3NYPtNVpnrW/Vdy9FxQ0hVTZtmciMi3KZgiIJkFWXHUEpQHACc5jYAMmEciNmdy+t/wAYy4f7DT31XAY+aacqGm+oiU6mnb+dBVUlkB6dbNiOSAwFuY6phOZPZvFT7OoH2+3qHbkAGMBTWj+2NLM7zspdN6lOS+i79epBWeJmFuLsi5VAaYTAEgDpKogJgOOduRECgES/uX1v+MZcP9hp76rh3L63/GMuH+w099VwHtsraOmbEWvkFpaPdzFzJ6dQOg1WmKpFXJwOodQwnMQpCiO45uooBjAYibxXfcvrf8Yy4f7DT31XDuX1v+MZcP8AYae+q4CcLfdRt+jrfxJx7IrFW2NahM24DqIuCYeAsICLGn+XfJ/6s/8A9iPV3L63/GMuH+w099VwEkuFRMpuVQVR27n6zpKWVRKncneKNVAIsVBwkZI4pmEBADAU44EQEM4yA9UUrVWhaz9X6f6M03zOd1anS9DTFCaS9y3mCRH6qyQLgHFV4QlEo9JUyBCEEO92iXARY3cvrf8AGMuH+w099Vw7l9b/AIxlw/2GnvquAxc/02UJUeommdTT+ZTstVUrJVZEybJuUwYHQU4+4yiYpicT/wCNK4EDgH2uQHEWxFd9y+t/xjLh/sNPfVcO5fW/4xlw/wBhp76rgLEjE0n960m8nt/5ZYiI2vrYQwOoy4fP/wCRp76rjGUvbKtT0zKTk1D3BTAzFAQIVlIMF+xhyDMsEf8AeIjAWvFXTDTxREy1DyzUwvMJyFUymnz02g2I4IDEzYyih95k9m8VAFU4Z37cY73IAMe3uX1v+MZcP9hp76rh3L63/GMuH+w099VwEQprR/bGlZPeOSS2b1MdC97qYO6iMs+TE7czwixVQaYTAEwAF1BDeBx+13CYAAInVkbP0xYO1sitHRjuZupNTySqTVaZLlWcnBRY6phOcpSlHv1DYACgABgADAR5O5fW/wCMZcP9hp76rh3L63/GMuH+w099VwFiRGZf7Zc+8hSnziYRge5fW/4xlw/2GnvquI4xtnWY3EnaQag6/KcsmlZxWBlIN5wFd8AFEPY3bgNoiGAAe+HIjywFzxHrh0TKrl0FUdu58u6RllUSl3JnijU5SLEQcImSOKZjAYAOBTjgRKIAOOQ9URzuX1v+MZcP9hp76rh3L63/ABjLh/sNPfVcBBag0W2qqSz9u7Jv5xU5JDbOasZvKV0XqRXayzUqhSAupwhKYogqfIEKQeraJcRKZnpyoabaipRqbczGeFqqSyE9Ot2pHRAYGbmMqYTGT2bxP9nP+GBeoduQzGR7l9b/AIxlw/2GnvquHcvrf8Yy4f7DT31XAWJHA9UV53L63/GMuH+w099VwG19bYHOou4Y/wD4NPfVcBmrU+1dR3kCX+bkiVRFbU+1dR/kCX+bkiVQCEIQCEIQCEIQCEIQCK9085DT/bMQ/wCh0l8ySiwor7Tx7QFs/idJfMkoChdRuo3V1YCmqvuc8sxbx7QtOOxBu67YnHTl2ijoqDc5kQSwU5uImJi7sBkeY4iZWGujqyuO4pWpq9tNQMloeo5aSZmey6oV3D5NJZsKrfCJkgLkTGTKYBNyARHnjnh+ybe4cud/9mV/1RpFu6dAzp7th8TZL5ijAT5w7aNSlM6dJIgcwFKKhwKAiPUAZ8MF3jRqBRcukUQObaXiHAuTe8GfDH5s6GdJVrdROmcKiveWZVZw3s6k8gaLPFUW9PtheKqKGbETMACuouooqZY4GMIcMnIpMG9WjPS1QWrbShJ661BzGd1nO3bJ7T0icP5gqBadZt1TIJA0IQxS79yRTmOoBjGwUo96GBD9IcgPVFaVB7pSg/iPVnn8giuOxyVdUlcaLbaVDVk4cTSZGavmZnTg25Q6TaYOW6IGH8ISpIplyPMduRERERix6g90pQfxHqzz+QQE1q+qpJQtKTmtqld9Fk9PsHE0mDjYY/BbIJmUVPtKAmNghTDgAERxyjTguqHW9UdsnGpmjLH25TtgiyWnTeQTSauy1M9lSQCYXBDkDoxBMkUVCkEpjCAYKBxEu60+yHuZ400XXUVp4TA6NKE0j7RHPRjuUSOOoB5cAyufBjrEA5xYNgkpSbTlbhESojLRoqTlwb+z4PQUgwPg27f+6Ay1mbr0xfG11N3Yo8yoympGRXaJFQAFET5EqqJ8ct6ahTpmwIhuIOBEMCOCvdUOoaVlk8o0+27piePpn0kX03qWbGay+UAmBBS4iKQCu4FUTHAOHgC8MdwhuCKf7Fl0n/Adt+C4jw+NOOBnH9n7KOve/vbo2fqSo5HSEgmFUVNNmsslUqbKO3jx0oCaSCJCiYxzmHkAAAQGtVjNTV5ltQMx0t6mqHpeT1kWR9sknm9LOVjyyaM9+wxSpriKpDAIKBkwhkUVOQBsE+0w+D88aZaXZXP9RWpOqNb89k6krpP2H7TrctnKQlXdy0iwnVmJymKAkBQ4qbP7qyhRyBAOfc0fB+eAqvSf7lmzf6v6e/pyEQS92ou6LS8Uu026baPpuf184kp6hm0wqJ4onKZGxA/DTFcqGVTqHPgNhcGADpmwYphEs70n+5Zs3+r+nv6chFI2GIwHsjup1RyVPp5ZPSRWoj9uCAy5Li4H3t4JZ/LiAl9iNRt1ZneidaaNR1F07Iq9l0lTqSWzGm3SqkpnUvFQEjnRKuPFTORQRDaYRE2xUcFAmTbJiOAzGlF7Col7KPp1UZip0g1Lz8rsCdXABm+4e7Hg37uvlnHhjdiA07ZdkBXq2+VtqDoW0U5GgrhTF5LmFYTtNRgEyM3RBQ6rFscoKHRADpfZVAKBhMYoAAkGNww6ucae6ugANYekXy7UnmjWNw4DxrfdRt+jrfxJxibi17TtraDqC41WuTISem5a4mbwxNonMmkQTCQgGEAMc2NpS5DcYxQ8MZZb7qNv0db+JONZ+ydGXLocucLfO8UZWA4/zRmrQDf92YCBr6oNcoWrHU+hYy2xbYhLe2DtdUnDztlGUY39J42Oih9h+zY27tn4Im72NvLbV9Ibp0BTtyKXUOeU1LLW80acQABQqapAMBDgAiAHLnaYMjgwCHgiMzVCnA03vGrMqJZCFEqJpAmAAmDToAgXb4NuzGPBiKj7GCLgdDVshcioJ9k2xxM52+yzzZjPg24x+TEBZd66k1LMn8up3T3bek5ko7bqrvKhqubnQlrA5RKBEOjt8uVjnATDuKBSFAuBERHAV1p51N3ZqG+FS6Y9RVBSKR15IZQSoGcxpxZY8qmzATkIY6QL5UJtMoUOZhyIKAIEEmDbC1nWdMW9pWaVtWU6bSmSSZuZ0+euTbU0Uy9Yj4RERwAFABEREAABEQCNUtIVO1Xey99a66KwlL2TSiqpalTdvpU9ACuCSBM5Di7VJjveOdMqhAyP9oqICZMUzmDciMTSf3rSbye3/lljLRiaT+9aTeT2/wDLLAZaEIQCEIQCIzL/AGy595ClPnEwiTRGZf7Zc+8hSnziYQHFzriU3aW31QXLq9wZGT04wVmDsSAAnMQhcgQgCIAJzDgpQyGTGAPDGoznVDrka2tJqfUsbbUbXmlhahGnSTl2apCScwAoDkVwDov9gPGEuzcBesoGAShM+ykKukdDdxTNREAMeUFVEOvYM1a5/wB/IB/IIxdN1kKePYCr2jsrcsjGj5gksBQKCQNOhHAwB+Dt2Z/JiAkdvK5kVzaEp+4lMLHVlNSS1vNGRlC7T8JZMDlA5cjtMAGwYM8hAQ8EQq+1/pfZZOTSdjRNSVpWFVi4Sp6nJEzMqs9Ojs4h1VhDhtkExWS4iqg96U+4AMBRxA+xxC9HRPaz2QE/F9jXO3f18Ppq/D/2bNuPyYjZHACOYCltIN/ZvqWsmwupPKZayF47fvmSjFs4MuRPgLmTAd4gGREChnl1xdI9Uai9iw9yLK/L8688UjboeqAi1qfauo7yBL/NyRKoitqfauo7yBL/ADckSqAQhCAQhCAQhCAQhCARX2nj2gLZ/E6S+ZJRYA9XKKOt4z1PUFQFM0KFsbXvu1yTspT0rugzBLj9HQIlxNnsKbbu2Z27hxnGR64DIavrM1HqD051lZ+kZlLWE3qFFoVq4mJ1CtiGRdorjvMmQ5gAQSEMgUeYhyic2rpR9Qlr6PoeZuEFnlPSGXypwq3EwpHVQbkSMYgmAB2iJBEMgA4xkAiL9sGp74IrX/vGmH1HDtg1PfBFa/8AeNMPqOAjOjKw1Wac7GN7YVnM5Q+maU0mL0y0rVVUQ4a65jkABUIQ2QKIZDbgByACPXHbRTYiq9NmneQ2irSaSl/N5U5frKrytRRRsYqzpRUm0yhCGEQKcM5KHPOMhziSdsGp74IrX/vGmH1HDtg1PfBFa/8AeNMPqOAw+jWytUad9NtIWcrOYSp7OKf9kOkrytVRRsfjv3DgmwyhEzjgixQHJA5gOMhgRztQe6UoP4j1Z5/II+XbBqe+CK1/7xph9RxGphLNTr65MiuH3NLXkGSSObSbondAmA8XprhgrxOJ7C97s9j9u3aO7i5yG3BgtW4dEyq5VBVJbuenWJLanlLuTvDoiAKFRcImSOYgiAgBgA4iAiA8wDlGnslsb2QOmbNjpilVXWnXpZFkpTrOs1zvizVGSmKKZS9FKTh9IIiOwggbaAAUNwiHEHZLtg1PfBFa/wDeNMPqOHbBqe+CK1/7xph9RwFI3uQqfSxpwtxps0uTRdpX8+mLKmqWUK0RcqqGKfpEyfrpKkOQEtnGUWOBBKmKwDgpQyHv1xadtRGoljRVNWwqmii0tKXYzGpZLUyzxs3ni6ZkzNyLdETMc6AYVEUwOmG4xTd8JSCS1F3WolzMm05c2PtIq/ZJqJNnR6/fGWQIpt4hSHGR7igbYXcADz2hnqCPX2wanvgitd+8aYfUcBA7TS3XtLKukjG6RNPbehGxTIvUKUTm5HyaJUTAiRuVYARKAHBMBAeQEA2OeI2M54DMVf2wanvgitf+8aYfUccez+p4eu0dr/8AZcaYfUcB00n+5Zs3+r+nv6chFXXf08XmkeotDVHplfUeE/mkkLT1VyKpTLpNZq3IYpk1yLIlMYq5QTRJzAA2pF5/bFNK7TybU9a+1tG207m1r5l2pU/LpF03t/mCPSeitiI8Xh+wptm7h7tu42M4yPXEq7YNT3wRWv8A3jTD6jgK5sdYe7yV7Z/qg1KVBTClWupGWmZJJqc4ppbJZUVUFjiKq5QOdY6gZE3IAAynMQOBU++je4d4bvrXLuhWNThMreziqHLa26RmTdA4SlussQzgBTIU501BEhSiqIn+wGHkBgE0/XnOph0go1dWctWsisQU1E1LiTAxTlEMCUQGR4EBDliPmwmOpCVsm8tlllbTs2jRMqKDdC4T9NNJMoYKQhSyMAKUAAAAA5AEBrHcWwPZHbm3Jt3dCfznTkjNbZO3ryTpNFZ4RBY7pNMigLlMkYxgAqZcAUxRAc5EY3JtWW6paElgXsPSxqz+zeyQ0uDgJZ/bH4XB6R9l/seFu3fh78csRGu2DU98EVr/AN40w+o4dsGp74IrX/vGmH1HAWKt91G36Ot/EnEYvJa2Q3qtdU9q6mESy+ppaswOqUoGM3OYMprlKPITpqARQueWSBEbPONTp3SbkbS2vDhpnT290WYc9wlHOfYT+7/3x9u2DU98EVr/AN40w+o4DWwljOyBubKJaW3VWWkbUoEuCmFaxRM+NNBkQE4OwrXYCfSBQDYIibGM99u+yxK9RC9wbH2vs5pi0pVQMlradTFnIJOuuzbORJKWbcRevXBVUjk2kDhHUMUm4TH70BEcRdHbBqe+CK1/7xph9Rx5DutRKszTnalj7SHmKKB2ybs1fvhWIiYQMZMD+we4CiJSiJc4ESgPggKg1s6dNSuoOpqMb24nVt1qDp1Qk0mNOVYs+IhNpkRQ2zpJWqRhWblJtwnvKAmE+4DBjE1tO117tq3lSd4z2BLRJAVLMCUqWcBMQAET8EEAcBwg+y8Pdu/A3Y54ia9sGp74IrX/ALxph9Rw7YNT3wRWv/eNMPqOAtGMTSf3rSbye3/lliCdsGp74IrX/vGmH1HHklMy1OyuVMpYFp7Xq9EbpobxuJMC7tpQDOPYTlnHVAW5FXzGm79LahZZU8uuBKELSI08ds/pwzUhnq834iglXKpwdwJ7DJ5+zAGUxDZ3wmjjtg1PfBFa/wDeNMPqOHbBqe+CK1/7xph9RwGApqjNVjSUXiQqa7tPPJhPXUwNbNVKXJgWQIHIr0UHWECgqJDnRyBgW5JCImPuEsTiyclutT1rpBJ731fL6orhugf2YmsvbFQbuFTKnMUCEKRMMFTEhN2wm7Zu2hnEYbtg1PfBFa/940w+o4dsGp74IrX/ALxph9RwFoxGZf7Zc+8hSnziYRFO2DU98EVr/wB40w+o4xjdbU6hUr+ou5ZbAwvWLRlwe6HMA2cBRwfdu9hOeekYxjlt6xzyCW3stTI74Woqe09RqnRYVNL1GR1yF3HbqcjJLFDkAmIoUhwAeQiUAGNU1bGdkBnVlktL04q20zOlTy4tMvKxQO+cTZaRgQEhIDZQgJi4OgHDMYTAAgY2DAbCsbJdsGp74IrX/vGmH1HDtg1PfBFa/wDeNMPqOAp3UA8ryy1GWP0y6WqhVktUTmbtJMyUOxQecOQMG3+PuVxWTMmAEA7cxhwBzCbvOYiEW9fMmqMyEm/wa1rYEWAy/sx27g/2iXBOD0fogZzni7t/9zHhjzivqHNNiz41jbRjMyNxaFejX77jlQEwGFIFPYPcBBMAG25xkAGPZ2wanvgitf8AvGmH1HAURoysPrO05tZLbOsptZl7bhs7fvX6ksVmis6FRcFFCgkZRNNDaC5k87i52bus2BjcceqKv7YNT3wRWv8A3jTD6jjgag1PCGBtHa8PzXGmH1HASi1PtXUd5Al/m5IlUYWipK5pujZDTr1RJRxKpY1ZKnSERIY6SRSGEoiADjJRxkAjNQCEIQCEIQCEIQCEIQCEIQCEIQCEIQCEIQCEIQCEIQCEIQCEIQCEIQCEIQCEIQCEIQCEIQCEIQCEIQCEIQCEIQCEIQCEIQCEIQCEIQCEIQCEIQCEIQCEIQCEIQCEIQCEIQCEIQCEIQCEIQCEIQCEIQCEIQCEIQCEIQCEIQCEIQCEIQCEIQCEIQCEIQCEIQCEIQCEIQCEIQCEIQH/2Q==)\n",
        "\n",
        "***"
      ],
      "metadata": {
        "id": "u18CJAbHjihs"
      }
    },
    {
      "cell_type": "code",
      "source": [
        "# создадим doc-term матрицу с помощью sklearn\n",
        "\n",
        "from sklearn.feature_extraction.text import TfidfVectorizer\n",
        "\n",
        "tfidf = TfidfVectorizer(max_df = 0.3,\n",
        "                        smooth_idf=True)\n",
        "\n",
        "X = tfidf.fit_transform(df['clean'])\n",
        "\n",
        "X.shape # проверим размерность document-term матрицы"
      ],
      "metadata": {
        "colab": {
          "base_uri": "https://localhost:8080/"
        },
        "id": "104oMcM7BMA4",
        "outputId": "9d00bb25-f199-4eb2-c20a-327b4b50d226"
      },
      "execution_count": null,
      "outputs": [
        {
          "output_type": "execute_result",
          "data": {
            "text/plain": [
              "(20, 7426)"
            ]
          },
          "metadata": {},
          "execution_count": 2
        }
      ]
    },
    {
      "cell_type": "markdown",
      "source": [
        "***\n",
        "2. Затем, используя сингулярное разложение (SVD), сократим размерность вышеуказанной матрицы до $k$ (количество желаемых тем), избавившись от лишних столбцов, строк и сингулярных чисел.\n",
        "***\n",
        "\n",
        ">✨***SVD (сингулярное разложение)*** -- декомпозиция вещественной матрицы с целью ее приведения к каноническому виду.\n",
        "\n",
        "> У любой матрицы $A$ размера $n \\times m$ существует разложение на матрицы $U$, $S$, $V^T$:\n",
        "\n",
        "> $A_{n \\times m} = U_{n \\times n} \\times S_{n \\times m} \\times V^T_{m \\times m}$.\n",
        "\n",
        ">При этом, матрицы $U_{n \\times n}$ и $V_{m \\times m}$ являются ортогональными, а матрица $S_{n \\times m}$ -- диагональной, $S_{n \\times m} = diag (\\sqrt{\\lambda_1}, \\sqrt{\\lambda_2}, ..., \\sqrt{\\lambda_n})$,\n",
        "\n",
        ">где $\\lambda_i \\geq 0$ -- собственные значения матриц $A^TA$ и $AA^T$, $\\sqrt{\\lambda_i}$ -- сингулярные числа матрицы $A$.\n",
        ">\n",
        "> Возможно получить *усеченное разложение*, оставив только первые (наибольшие) $k$ сингулярных чисел.\n",
        "Тогда у матриц $U$ останутся только первые $k$ столбцов, у матрицы $V$ - первые $k$ строчек, а матрица $S$ станет квадратной размера $k \\times k$.\n",
        "\n",
        ">$A'_{n \\times m} = U'_{n \\times k} \\times S'_{k \\times k} \\times V'^T_{k \\times m}$\n",
        "\n",
        "> Матрица $A'$ с достаточно высокой точностью приближает исходную матрицу $A$, будучи наилучшим низкоранговым приближением с точки зрения средне-квадратичного отклонения.\n",
        "\n",
        ">Имеенно такое важное свойство $SVD$ позволяет применяеть его для проведения латентно-семантического анализа.\n",
        "\n",
        "***\n",
        "![m_photo_2023-12-29_21-49-01.jpg](data:image/jpeg;base64,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)\n",
        "\n",
        "***"
      ],
      "metadata": {
        "id": "mHjZHKcoXAaX"
      }
    },
    {
      "cell_type": "code",
      "source": [
        "from sklearn.decomposition import TruncatedSVD\n",
        "\n",
        "svd_model = TruncatedSVD(\n",
        "    n_components=4,       # тексты разделены на 4 темы, так что мы уменьшим матрицу соответственно\n",
        "    n_iter=100,           # количество итераций для рандомизированного SVD-решателя\n",
        "    random_state=4221)    # seed для генератора рандомных чисел, чтобы результат был постоянный\n",
        "\n",
        "svd_model.fit(X)\n",
        "\n",
        "len(svd_model.components_)"
      ],
      "metadata": {
        "colab": {
          "base_uri": "https://localhost:8080/"
        },
        "id": "haXWqINXY7XA",
        "outputId": "0023b510-f637-4d5a-ffec-48ebad802a26"
      },
      "execution_count": null,
      "outputs": [
        {
          "output_type": "execute_result",
          "data": {
            "text/plain": [
              "4"
            ]
          },
          "metadata": {},
          "execution_count": 3
        }
      ]
    },
    {
      "cell_type": "markdown",
      "source": [
        "***\n",
        "✨Компоненты ***svd_model*** - это наши темы, и мы можем получить к ним доступ с помощью ***svd_model.components_***. Наконец, давайте выведем несколько наиболее важных слов в каждой из 4 тем и посмотрим, как работает наша модель.\n",
        "***"
      ],
      "metadata": {
        "id": "gwR3PGxCZp7L"
      }
    },
    {
      "cell_type": "code",
      "source": [
        "terms = tfidf.get_feature_names_out()\n",
        "\n",
        "for i, comp in enumerate(svd_model.components_, start=1):\n",
        "\n",
        "    terms_comp = zip(terms, comp)\n",
        "\n",
        "    sorted_terms = sorted(terms_comp, key=lambda x: x[1], reverse=True)[:5]\n",
        "\n",
        "    print(\"Тема \" + str(i), end=\": \")\n",
        "\n",
        "    for t in sorted_terms: print(t[0], end=\" \")\n",
        "\n",
        "    print()"
      ],
      "metadata": {
        "colab": {
          "base_uri": "https://localhost:8080/"
        },
        "id": "wDpCzMUmZvZ0",
        "outputId": "44f58d03-a576-4f98-8486-bd4dce069582"
      },
      "execution_count": null,
      "outputs": [
        {
          "output_type": "stream",
          "name": "stdout",
          "text": [
            "Тема 1: звезд звезды эволюции двойных массы \n",
            "Тема 2: искусственного интеллекта интеллект искусственный электронной \n",
            "Тема 3: пациентов калия печени больных сердца \n",
            "Тема 4: коррупция малого экономики среднего экономических \n"
          ]
        }
      ]
    },
    {
      "cell_type": "markdown",
      "source": [
        "***\n",
        "✨Программа извлекла \"особые\" слова, и мы можем явно выделить четыре темы в двадцати документах: космос, искусственный интеллект, медицина, экономика.\n",
        "\n",
        "✨Работает!!!✨\n",
        "***"
      ],
      "metadata": {
        "id": "YkBpsJSACblN"
      }
    },
    {
      "cell_type": "markdown",
      "source": [
        "***\n",
        "## ⭐ Поэкспериментируем ⭐\n",
        "***"
      ],
      "metadata": {
        "id": "iinnGHaoBDIJ"
      }
    },
    {
      "cell_type": "markdown",
      "source": [
        "Можно вывести побольше слов и увидеть как темы \"перемешиваются\". Слова сортируются от большего TF-IDF до меньшего:\n",
        "***"
      ],
      "metadata": {
        "id": "gCQFINaggT2b"
      }
    },
    {
      "cell_type": "code",
      "source": [
        "for i, comp in enumerate(svd_model.components_, start=1):\n",
        "    sorted_terms = sorted(zip(terms, comp), key=lambda x: x[1], reverse=True)[:20]\n",
        "    print(\"Тема \" + str(i), end=\": \")\n",
        "    for t in sorted_terms: print(t[0], end=\" \")\n",
        "    print()"
      ],
      "metadata": {
        "colab": {
          "base_uri": "https://localhost:8080/"
        },
        "id": "YqsSOjcagGbr",
        "outputId": "3b468424-5022-4ae2-b297-f509f87ebb75"
      },
      "execution_count": null,
      "outputs": [
        {
          "output_type": "stream",
          "name": "stdout",
          "text": [
            "Тема 1: звезд звезды эволюции двойных массы движений линии галактики элементов масса солнца массивных вещества собственных ядра гелия звезда координат искусственного рентгеновские \n",
            "Тема 2: искусственного интеллекта интеллект искусственный электронной пациентов коммерции технологиях обучения технологии умных вещей клиентов человека медицинских интернет обучение автоматизации открывает коррупция \n",
            "Тема 3: пациентов калия печени больных сердца заболевания функции снижение миокарда легких пациенты гиперкалиемии пациента медиана хснсфв типу данным паллиативной помощь составила \n",
            "Тема 4: коррупция малого экономики среднего экономических невидимой руки экономической система предпринимательства рынка коррупции рисков государства бизнеса экономическая общества отношений ресурсов производства \n"
          ]
        }
      ]
    },
    {
      "cell_type": "markdown",
      "source": [
        "***\n",
        "Можем поиграть с параметрами TruncatedSVD. Например, при меньшем количестве итераций (5) ничего не изменилось. До этого было 100.\n",
        "***"
      ],
      "metadata": {
        "id": "-h9yEXL3lnm9"
      }
    },
    {
      "cell_type": "code",
      "source": [
        "svd_model = TruncatedSVD(n_components=4, n_iter=5, random_state=4221)\n",
        "svd_model.fit(X)\n",
        "\n",
        "for i, comp in enumerate(svd_model.components_, start=1):\n",
        "    sorted_terms = sorted(zip(terms, comp), key=lambda x: x[1], reverse=True)[:5]\n",
        "    print(\"Тема \" + str(i), end=\": \")\n",
        "    for t in sorted_terms: print(t[0], end=\" \")\n",
        "    print()"
      ],
      "metadata": {
        "colab": {
          "base_uri": "https://localhost:8080/"
        },
        "id": "Dp6OjMf-lxK3",
        "outputId": "b1890f3e-9245-4b25-cc74-b707eed06ec9"
      },
      "execution_count": null,
      "outputs": [
        {
          "output_type": "stream",
          "name": "stdout",
          "text": [
            "Тема 1: звезд звезды эволюции двойных массы \n",
            "Тема 2: искусственного интеллекта интеллект искусственный электронной \n",
            "Тема 3: пациентов печени больных сердца калия \n",
            "Тема 4: коррупция малого среднего экономики коррупции \n"
          ]
        }
      ]
    },
    {
      "cell_type": "markdown",
      "source": [
        "***\n",
        "## ⭐ Визуализация с помощью PCA ⭐\n",
        "***"
      ],
      "metadata": {
        "id": "MmfU3QpdG5oA"
      }
    },
    {
      "cell_type": "markdown",
      "source": [
        "Человеку проще воспринимать некоторые данные визуально. Ещё лучше, когда можно что-то пропустить через несколько путей восприятия. К сожалению, мы находимся в трёхмерном пространстве и представить структуру большей размерность нам сложно, а доподлинно построить невозможно. Зато можно сжать многомерный объект до воспринимаемой размерности, главной задачей становиться минимальная потеря информации и сохранение основополагающих свойств объекта.\n",
        "\n",
        "Метод анализа главных компонент (англ. principal component analysis, PCA) — один из основных способов уменьшить размерность данных. Метод был разработан Карлом Пирсоном в 1901 году.\n",
        "\n",
        "Существует 4 основных версии постановки задачи анализа главных компонент:\n",
        "1.\tаппроксимировать данные линейными многообразиями меньшей размерности;\n",
        "2.\tнайти подпространства меньшей размерности, в ортогональной проекции на которые разброс данных (то есть среднеквадратичное отклонение от среднего значения) максимален;\n",
        "3.\tнайти подпространства меньшей размерности, в ортогональной проекции на которые среднеквадратичное расстояние между точками максимально;\n",
        "4.\tдля данной многомерной случайной величины построить такое ортогональное преобразование координат, в результате которого корреляции между отдельными координатами обратятся в нуль.\n",
        "\n",
        "Каждая из задач приводит к задаче диагонализации ковариантной матрицы или выборочной ковариантной матрицы. Выборочная ковариационная матрица, это\n",
        "$$\n",
        "C=\\{c_{ij}\\}:\\:c_{ij}=\\frac{1}{m-1}\\sum^m_{k=1}(x_{ki}-\\overline{X}_i)(x_{kj}-\\overline{X}_j).\n",
        "$$\n",
        "Ковариационная матрица многомерной случайной величины $X$, это\n",
        "$$\n",
        "\\Sigma=\\{\\sigma_{ij}\\}:\\:\\sigma_{ij}=\\text{cov}(X_i,X_j)=E[(X_i-E[X_i])(X_j-E[X_j])].\n",
        "$$\n",
        "В тех случаях, когда спектр ковариантной матрицы вырожден, произвольно выбирают ортонормированный базис собственных векторов. Такой базис всегда существует, и собственные числа ковариантной матрицы вещественны и не меньше нуля.\n",
        "\n",
        "Вводится матрица преобразования данных к главным компонентам, далее $А$. Она состоит из векторов главных компонент, которые расположены в порядке убывания собственных значений:\n",
        "$$\n",
        "A=\\{a-1,...,a_n\\}^T,\n",
        "$$\n",
        "при этом $AA^T=1$.\n",
        "\n",
        "Матрица $А$ является ортогональной. Основная часть вариации данных сосредотачивается в первых координатах, и это часто позволяет перейти к пространству меньшей размерности.\n",
        "\n",
        "Подход оценки числа главных компонент по необходимой доле объяснённой дисперсии по сути применим всегда, но он предполагает, что нет разделения на «сигнал» и «шум», и заранее заданная точность всегда имеет смысл. Часто пользуются другой методикой, основанной на гипотезе о наличии «сигнала» (сравнительно малая размерность, относительно большая амплитуда) и «шума» (большая размерность, относительно малая амплитуда).\n",
        "Рассматриваемый метод работает как фильтр, сигнал содержится преимущественно в первых главных компонентах, при этом влияние остальных компонент меньше, а процент шума в них больше. Возникает очень важный вопрос: как оценивать количество нужных главных компонент, в условиях известного соотношения сигнала и шума. Самым простым и старым методом является правило Кейзера. По данному правилу значимы те главные компоненты, которые удовлетворяют условию:\n",
        "$$\n",
        "\\lambda_i>\\frac{1}{n}\\text{tr}\\:C,\n",
        "$$\n",
        "то есть $\\lambda_i$ превосходит среднее значение выборочной дисперсии координат вектора данных. Это самый простой и распространённый метод. Но бывают случаи в которых он даёт слишком много значимых главных компонент.\n",
        "\n",
        "Существуют другие распространённые более продвинутые и универсальные методы оценки, такие как правило сломанной трости и метод оценки по числу обусловленности.\n",
        "\n",
        "После выбора главных компонент и проецирования на первые $k$ главных компонент удобно выполнить нормировку на единичную дисперсию по осям. Дисперсия вдоль итой главной компоненты равна:\n",
        "$$\n",
        "\\lambda_i>0\\:(1\\le i\\le k),\n",
        "$$\n",
        "и для нормирования нужно разделить соответствующую координату на $\\sqrt{\\lambda_i}$. Такое преобразование не ортогонально и не сохраняет скалярное произведение. После нормировки ковариационная матрица проекции данных становится единичной, проекции на два любых ортогональных направления становятся независимыми величинами, и каждый ортонормированный базис становится базисом главных компонент. Вместе с нормировкой отображение из исходного пространства данных на первые $k$ главных компонент задаётся матрицей:\n",
        "$$\n",
        "K=\\Bigg\\{\\frac{a_1}{\\sqrt{\\lambda_1}},\\frac{a_2}{\\sqrt{\\lambda_2}},...,\\frac{a_k}{\\sqrt{\\lambda_k}}\\Bigg\\}^T.\n",
        "$$\n",
        "\n",
        "Именно это преобразование чаще всего называется преобразованием Кархунена — Лоэва.\n",
        "\n",
        "Встречается нормировка до вычисления главных компонент. Она позволяет обоснованно выбирать метрику, в которой будет вычисляться наилучшая аппроксимация данных, или будут искаться направления наибольшего разброса. Предварительная нормировка не заменяет нормировку после вычисления главных компонент, её надо будет проводить отдельно.\n",
        "\n",
        "Области применения метода:\n",
        "1. визуализация данных;\n",
        "2. компрессия изображений и видео;\n",
        "3. подавление шума на изображениях;\n",
        "4. индексация видео;\n",
        "5. сокращение размерности динамических моделей;\n",
        "6. сенсорная оценка пищевых продуктов.\n",
        "\n",
        "Так же иногда применяется в таких областях как Биоинформатика, Хемометрика, Психодиагностика, Эконометрика, Социология, Политология.\n",
        "\n",
        "Метод главных компонент применим всегда. Однако метод не всегда эффективно снижает размерность при заданных ограничениях на точность. Прямые и плоскости не всегда обеспечивают хорошую аппроксимацию. Например, если данные с очень хорошей точностью следуют какой-то кривой, сложно расположенной в пространстве, тогда метод главных компонент для приемлемой точности потребует в место одной компоненты несколько. В такой ситуации может вообще не произойти снижение размерности. Для таких случаев разработан метод главных многообразий.\n"
      ],
      "metadata": {
        "id": "ddA3XNrgSQgp"
      }
    },
    {
      "cell_type": "markdown",
      "source": [
        "Мы можем попытаться визуализировать как наши тексты кластеризировалились благодаря tfidf и doc-term матрицы с помощью PCA. Не будем ничего изобретать и воспольземся готовеньким, а именно библиотекой sklearn, в которой уже реализовал PCA."
      ],
      "metadata": {
        "id": "qDtvzEJefl2L"
      }
    },
    {
      "cell_type": "code",
      "source": [
        "import matplotlib.pyplot as plt\n",
        "\n",
        "from sklearn.decomposition import PCA\n",
        "\n",
        "colors = [*[\"red\"]*5, *[\"blue\"]*5, *[\"cyan\"]*5, *[\"black\"]*5]\n",
        "\n",
        "X_topics = svd_model.fit_transform(X)\n",
        "\n",
        "pca = PCA(n_components = 2)\n",
        "XPCAreduced = pca.fit_transform(X_topics)\n",
        "\n",
        "plt.scatter(XPCAreduced[:, 0], XPCAreduced[:, 1], c=colors)"
      ],
      "metadata": {
        "id": "vNoLkJhsG8yl",
        "colab": {
          "base_uri": "https://localhost:8080/",
          "height": 447
        },
        "outputId": "e6f0f0ed-73c6-46bf-ae1e-c2bb9f48d64b"
      },
      "execution_count": null,
      "outputs": [
        {
          "output_type": "execute_result",
          "data": {
            "text/plain": [
              "<matplotlib.collections.PathCollection at 0x7f3b9a2269b0>"
            ]
          },
          "metadata": {},
          "execution_count": 13
        },
        {
          "output_type": "display_data",
          "data": {
            "text/plain": [
              "<Figure size 640x480 with 1 Axes>"
            ],
            "image/png": "[encoded data removed]"
          },
          "metadata": {}
        }
      ]
    },
    {
      "cell_type": "markdown",
      "source": [
        "Цвета - темы. Мы уменьшили четырехмерное пространство четырех тем до двухмерного. Кластеризацию можно увидеть невооруженным глазом. Она не супер четкая,  возможно, библиотечный дело в библиотечном методе (он автоматически проецирует на оси, максимизирующие дисперсию, что не всегда рационально), или тексты не очень отличаются по наполнению."
      ],
      "metadata": {
        "id": "q2I78qjOmUH2"
      }
    },
    {
      "cell_type": "markdown",
      "source": [
        "***\n",
        "## ⭐Заключение ⭐\n",
        "\n",
        "Мы успешно применили ЛСА для выделения четырех тем из двадцати текстов и даже визуализировали получившуюся кластеризацию. Латентно-семантический анализ сработал великолепно, можно отлично видеть темы текстов по особым словам.\n",
        "\n",
        "ЛСА работает быстро и очень легко реализуется. С другой стороны ЛСА предполагает гауссовское распределение слов в тестах, что может быть справедливо не для всех задач.\n",
        "***"
      ],
      "metadata": {
        "id": "oB6lLgXmsXeo"
      }
    },
    {
      "cell_type": "markdown",
      "source": [
        "## ✨ C наступающим!\n",
        "\n",
        "*Пусть вектор радости направлен вдоль оси успеха, а матрица здоровья остается симметричной и положительно определенной. Пусть каждый базисный вектор вашей жизни приносит вам радость и процветание в новом году!*"
      ],
      "metadata": {
        "id": "oLKIFou5asqV"
      }
    }
  ]
}